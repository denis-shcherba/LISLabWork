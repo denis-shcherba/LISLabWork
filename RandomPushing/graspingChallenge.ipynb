{
 "cells": [
  {
   "cell_type": "code",
   "execution_count": 1,
   "metadata": {},
   "outputs": [],
   "source": [
    "import robotic as ry\n",
    "import numpy as np\n",
    "from visual import getObject, lookAtObj, scanObject, piece_pci, standardICP\n",
    "from arena import *\n",
    "import open3d as o3d\n",
    "import random\n",
    "\n",
    "INITIAL_OBJ_POS = [-.5, 0, .69]\n",
    "ON_REAL = False\n",
    "ARENA_POS = np.array([-.54, -.17, .651])\n",
    "\n",
    "GRIPPER_FINGER_SEPARATION = .075\n",
    "GRIPPER_FINGER_WIDTH = .025\n",
    "\n",
    "def validSideDistance(p1, p2, n):\n",
    "    dist = np.linalg.norm(p2-p1)\n",
    "    normal_dist = abs(np.dot(p1 - p2, n) / np.linalg.norm(n))\n",
    "    side_dist = np.sqrt(dist*dist-normal_dist*normal_dist)\n",
    "    return side_dist <= GRIPPER_FINGER_WIDTH*.5\n",
    "\n",
    "def validNormalDistance(p1, p2, n, dist_thresh=GRIPPER_FINGER_SEPARATION):\n",
    "    return (abs(np.dot(p1 - p2, n) / np.linalg.norm(n)) <= dist_thresh\n",
    "            and abs(np.dot(p1 - p2, n) / np.linalg.norm(n)) >= GRIPPER_FINGER_WIDTH)\n",
    "\n",
    "def validNormalRelativeDir(p1, p2, n):\n",
    "    p2pvec = p2-p1\n",
    "    dot_product = np.dot(n, p2pvec)\n",
    "    # Normal vector has magnitude one so we ignore it\n",
    "    magnitude_vector = np.linalg.norm(p2pvec)\n",
    "    cosine_angle = dot_product / magnitude_vector\n",
    "    return cosine_angle <= 0\n",
    "\n",
    "def validNormalDir(n1, n2):\n",
    "    upvec = np.array([0., 0., 1.])\n",
    "    dot_product1 = np.dot(n1, upvec)\n",
    "    dot_product2 = np.dot(n2, upvec)\n",
    "    return dot_product1 >= 0 and dot_product2 >= 0\n",
    "\n",
    "def piece_pci_overlap(pcs):\n",
    "    while len(pcs) > 1:\n",
    "        print(\"Starting loop...\")\n",
    "        # Piece Creation\n",
    "        new_pcs = []\n",
    "        for i in range(0, len(pcs), 3):\n",
    "            new_pcs.append(standardICP(pcs[i] + pcs[i-1], pcs[i-1] + pcs[i-2]))\n",
    "            if i <= len(pcs) - 3:\n",
    "                new_pcs.append(standardICP(pcs[i] + pcs[i+1], pcs[i+1] + pcs[i+2]))\n",
    "            elif i > len(pcs) - 3:\n",
    "                new_pcs.append(standardICP(pcs[i],  pcs[i+1]))\n",
    "\n",
    "        pcs = new_pcs\n",
    "\n",
    "        # Piece Joining\n",
    "        new_pcs = []\n",
    "        for i in range(0, len(pcs), 2):\n",
    "            new_pcs.append(standardICP(pcs[i] , pcs[i+1]))\n",
    "\n",
    "        pcs = new_pcs\n",
    "        print(\"Ending loop...\")\n",
    "    return pcs[0]"
   ]
  },
  {
   "cell_type": "code",
   "execution_count": 2,
   "metadata": {},
   "outputs": [
    {
     "name": "stdout",
     "output_type": "stream",
     "text": [
      "-- module.cpp:operator():95(0) python,\n",
      "RealSense/resolution: 640,\n",
      "RealSense/alignToDepth!,\n",
      "physx/motorKp: 10000,\n",
      "physx/motorKd: 1000,\n",
      "physx/multiBody!\n"
     ]
    }
   ],
   "source": [
    "#-- load parameters, typically automatically from 'rai.cfg'\n",
    "ry.params_print()\n",
    "verbose = 0\n",
    "\n",
    "#-- define a configuration\n",
    "C = ry.Config()\n",
    "C.addFile(ry.raiPath('scenarios/pandaSingle.g'))\n",
    "\n",
    "obj = C.addFrame('obj')\n",
    "obj.setShape(ry.ST.ssBox, size=[.05, .09, .1, .005])\n",
    "obj.setPosition(INITIAL_OBJ_POS)\n",
    "obj.setColor([1, .5, .5])\n",
    "obj.setMass(.1)\n",
    "obj.setContact(True)\n",
    "\n",
    "C.addFrame('predicted_obj') \\\n",
    "    .setShape(ry.ST.marker, size=[.1]) \\\n",
    "    .setPosition(INITIAL_OBJ_POS) \\\n",
    "    .setColor([1, 0, 0])\n",
    "\n",
    "for i in range(32):\n",
    "    C.addFrame(f'view_point_{i}') \\\n",
    "        .setPosition([0, 0, 0]) \\\n",
    "        .setShape(ry.ST.sphere, size=[.02]) \\\n",
    "        .setColor([1, 1, 0])\n",
    "\n",
    "bot = ry.BotOp(C, ON_REAL)\n",
    "\n",
    "obj_pos = INITIAL_OBJ_POS\n",
    "\n",
    "# Generate Arena\n",
    "arena = CircularArena(middleP=ARENA_POS, innerR=None, outerR=.3)\n",
    "arena.plotArena(C)"
   ]
  },
  {
   "cell_type": "code",
   "execution_count": 3,
   "metadata": {},
   "outputs": [
    {
     "name": "stdout",
     "output_type": "stream",
     "text": [
      "{ time: 0.003084, evals: 10, done: 1, feasible: 1, sos: 0.0103109, f: 0, ineq: 0, eq: 0.0113087 }\n",
      "-- WARNING:kin.cpp:getFrame:393(-1) cannot find frame named 'pcl'\n",
      "{ time: 0.014337, evals: 19, done: 1, feasible: 1, sos: 0, f: 0, ineq: 0, eq: 0.00303925 }\n",
      "{ time: 0.001129, evals: 13, done: 1, feasible: 1, sos: 0, f: 0, ineq: 0, eq: 0.0037348 }\n",
      "{ time: 0.011813, evals: 12, done: 1, feasible: 1, sos: 0, f: 0, ineq: 0, eq: 0.0042577 }\n",
      "{ time: 0.010104, evals: 63, done: 1, feasible: 1, sos: 0, f: 0, ineq: 0, eq: 0.0722044 }\n",
      "{ time: 0.002009, evals: 11, done: 1, feasible: 1, sos: 0, f: 0, ineq: 0, eq: 0.00362237 }\n",
      "{ time: 0.006498, evals: 20, done: 1, feasible: 1, sos: 0, f: 0, ineq: 0, eq: 0.00308436 }\n",
      "{ time: 0.048414, evals: 366, done: 1, feasible: 0, sos: 0, f: 0, ineq: 0, eq: 0.825192 }\n",
      "{ time: 0.010233, evals: 39, done: 1, feasible: 0, sos: 0, f: 0, ineq: 0, eq: 0.822236 }\n"
     ]
    }
   ],
   "source": [
    "# Point towards set initial object position\n",
    "lookAtObj(bot, C, np.array(INITIAL_OBJ_POS))\n",
    "\n",
    "# Capture midpoint from point cloud\n",
    "obj_pos  = getObject(bot, C, arena) \n",
    "\n",
    "scanned_views_ = scanObject(bot, C, np.array(obj_pos), arena, view_count=8)\n",
    "scanned_views = []\n",
    "for sv in scanned_views_:\n",
    "    point_cloud_obj = o3d.geometry.PointCloud()\n",
    "    point_cloud_obj.points = o3d.utility.Vector3dVector(sv)\n",
    "    scanned_views.append(point_cloud_obj)"
   ]
  },
  {
   "cell_type": "code",
   "execution_count": 4,
   "metadata": {},
   "outputs": [
    {
     "name": "stdout",
     "output_type": "stream",
     "text": [
      "Starting loop...\n",
      "Ending loop...\n",
      "Starting loop...\n",
      "Ending loop...\n"
     ]
    }
   ],
   "source": [
    "final_points = piece_pci_overlap(scanned_views)"
   ]
  },
  {
   "cell_type": "code",
   "execution_count": 5,
   "metadata": {},
   "outputs": [],
   "source": [
    "pclFrame = C.getFrame(\"pcl\")\n",
    "pclFrame.setPointCloud(np.asarray(final_points.points))\n",
    "C.view_recopyMeshes()"
   ]
  },
  {
   "cell_type": "code",
   "execution_count": 6,
   "metadata": {},
   "outputs": [
    {
     "name": "stdout",
     "output_type": "stream",
     "text": [
      "Matching atimodal points: 100/2212 (4.52%) Done\n",
      "Matching atimodal points: 200/2212 (9.04%) Done\n",
      "Matching atimodal points: 300/2212 (13.56%) Done\n",
      "Matching atimodal points: 400/2212 (18.08%) Done\n",
      "Matching atimodal points: 500/2212 (22.60%) Done\n",
      "Matching atimodal points: 600/2212 (27.12%) Done\n",
      "Matching atimodal points: 700/2212 (31.65%) Done\n",
      "Matching atimodal points: 800/2212 (36.17%) Done\n",
      "Matching atimodal points: 900/2212 (40.69%) Done\n",
      "Matching atimodal points: 1000/2212 (45.21%) Done\n",
      "Matching atimodal points: 1100/2212 (49.73%) Done\n",
      "Matching atimodal points: 1200/2212 (54.25%) Done\n",
      "Matching atimodal points: 1300/2212 (58.77%) Done\n",
      "Matching atimodal points: 1400/2212 (63.29%) Done\n",
      "Matching atimodal points: 1500/2212 (67.81%) Done\n",
      "Matching atimodal points: 1600/2212 (72.33%) Done\n",
      "Matching atimodal points: 1700/2212 (76.85%) Done\n",
      "Matching atimodal points: 1800/2212 (81.37%) Done\n",
      "Matching atimodal points: 1900/2212 (85.90%) Done\n",
      "Matching atimodal points: 2000/2212 (90.42%) Done\n",
      "Matching atimodal points: 2100/2212 (94.94%) Done\n",
      "Matching atimodal points: 2200/2212 (99.46%) Done\n",
      "Antipodal pairs found: [(23, 287), (32, 479), (43, 479), (74, 389), (114, 373), (116, 954), (183, 1796), (237, 389), (237, 2129), (254, 2129), (282, 954), (323, 2129), (403, 526), (417, 556), (417, 897), (417, 1671), (500, 1182), (500, 1337), (513, 543), (513, 624), (513, 665), (513, 759), (513, 967), (513, 2142), (533, 954), (536, 665), (536, 1246), (536, 1632), (542, 658), (542, 1183), (587, 1024), (587, 1339), (664, 1552), (700, 954), (707, 954), (709, 2129), (710, 759), (710, 813), (710, 2142), (722, 1796), (773, 1796), (803, 954), (822, 967), (822, 1442), (822, 1741), (838, 1049), (838, 1131), (838, 1260), (838, 1543), (838, 1576), (838, 1816), (838, 2140), (843, 1442), (843, 1903), (846, 954), (880, 1204), (886, 967), (886, 1442), (929, 954), (936, 1796), (937, 967), (937, 1262), (937, 2142), (953, 2129), (956, 1784), (1022, 1796), (1050, 1131), (1050, 1741), (1050, 1903), (1091, 1491), (1091, 1784), (1091, 2129), (1096, 1131), (1096, 1260), (1096, 1548), (1096, 1576), (1096, 2140), (1100, 1387), (1104, 1131), (1104, 1260), (1104, 1442), (1104, 1576), (1104, 2140), (1110, 1131), (1148, 1491), (1148, 1784), (1148, 2129), (1155, 1796), (1240, 1796), (1281, 1796), (1286, 1442), (1286, 1741), (1296, 1543), (1296, 1576), (1296, 1675), (1296, 1816), (1296, 2140), (1348, 1491), (1376, 1796), (1421, 2153), (1440, 1796), (1575, 1784), (1590, 1796), (1599, 1796), (1603, 1935), (1603, 2086), (1659, 1741), (1764, 1796), (1792, 2129), (1819, 2142), (2051, 2142), (2051, 2193), (2085, 2124), (2129, 2130), (2129, 2141)]\n"
     ]
    }
   ],
   "source": [
    "def findPossibleGrasps(point_cloud, voxel_size=.005, verbose=3):\n",
    "\n",
    "    # Prepare point cloud\n",
    "    pcd = o3d.geometry.PointCloud()\n",
    "    pcd.points = o3d.utility.Vector3dVector(point_cloud)\n",
    "    if voxel_size: pcd = pcd.voxel_down_sample(voxel_size=voxel_size)\n",
    "    pcd.estimate_normals(\n",
    "        search_param=o3d.geometry.KDTreeSearchParamHybrid(radius=0.1, max_nn=30))\n",
    "    if verbose > 2:\n",
    "        o3d.visualization.draw_geometries([pcd], point_show_normal=True)\n",
    "    \n",
    "    # Find antipodal pairs\n",
    "    antipodal_pairs = []\n",
    "    for i in range(len(pcd.points)):\n",
    "        normal_i = np.asarray(pcd.normals[i])\n",
    "        for j in range(i + 1, len(pcd.points)):\n",
    "            normal_j = np.asarray(pcd.normals[j])\n",
    "            dot_product = np.dot(normal_i, normal_j)\n",
    "            if (dot_product < -0.7 and\n",
    "                validSideDistance(pcd.points[i], pcd.points[j], pcd.normals[i]) and\n",
    "                validNormalDistance(pcd.points[i], pcd.points[j], pcd.normals[i]) and\n",
    "                validNormalRelativeDir(pcd.points[i], pcd.points[j], pcd.normals[i])\n",
    "                and validNormalDir(pcd.points[j], pcd.normals[i])\n",
    "                ):\n",
    "                    antipodal_pairs.append((i, j))\n",
    "        if verbose > 2 and (i+1)%100 == 0:\n",
    "            print(f\"Matching atimodal points: {i+1}/{len(pcd.points)} ({((i+1)*100/len(pcd.points)):.2f}%) Done\")\n",
    "\n",
    "    if verbose:\n",
    "        print(\"Antipodal pairs found:\", antipodal_pairs)\n",
    "\n",
    "        if verbose > 1:\n",
    "            # Create a line set to visualize antipodal pairs\n",
    "            line_set = o3d.geometry.LineSet()\n",
    "\n",
    "            # Populate line_set with antipodal pairs\n",
    "            lines = []\n",
    "            for pair in antipodal_pairs:\n",
    "                lines.append([pair[0], pair[1]])\n",
    "            lines = np.array(lines).astype(np.int32)\n",
    "            line_set.points = o3d.utility.Vector3dVector(np.asarray(pcd.points))\n",
    "            line_set.lines = o3d.utility.Vector2iVector(lines)\n",
    "\n",
    "            # Set color of the lines to red\n",
    "            line_colors = np.array([[1, 0, 0] for _ in range(len(lines))])\n",
    "            line_set.colors = o3d.utility.Vector3dVector(line_colors)\n",
    "\n",
    "            # Visualize the point cloud and antipodal pairs\n",
    "            o3d.visualization.draw_geometries([pcd, line_set], point_show_normal=True)\n",
    "\n",
    "    return antipodal_pairs\n",
    "\n",
    "point_indices = findPossibleGrasps(np.asarray(final_points.points), voxel_size=.005, verbose=3)"
   ]
  },
  {
   "cell_type": "code",
   "execution_count": 7,
   "metadata": {},
   "outputs": [],
   "source": [
    "random_grasp_indices = random.choice(point_indices)\n",
    "gripping_pos = (final_points.points[random_grasp_indices[0]] + final_points.points[random_grasp_indices[1]]) * .5\n",
    "gripping_angle = final_points.points[random_grasp_indices[0]] + final_points.points[random_grasp_indices[1]]\n",
    "gripping_angle /= np.linalg.norm(gripping_angle)"
   ]
  },
  {
   "cell_type": "code",
   "execution_count": 8,
   "metadata": {},
   "outputs": [
    {
     "name": "stdout",
     "output_type": "stream",
     "text": [
      "{ time: 0.002666, evals: 17, done: 1, feasible: 1, sos: 0, f: 0, ineq: 0, eq: 0.0310047 }\n"
     ]
    }
   ],
   "source": [
    "bot.home(C)\n",
    "while bot.getTimeToEnd() > 0:\n",
    "    bot.sync(C, .1)\n",
    "    \n",
    "bot.gripperMove(ry._left)\n",
    "while not bot.gripperDone(ry._left):\n",
    "    bot.sync(C, .1)\n",
    "\n",
    "bot.sync(C)\n",
    "\n",
    "komo = ry.KOMO()\n",
    "komo.setConfig(C, True)\n",
    "komo.setTiming(1., 1, 1., 0)\n",
    "\n",
    "komo.addObjective([], ry.FS.accumulatedCollisions, [], ry.OT.eq)\n",
    "komo.addObjective([], ry.FS.jointLimits, [], ry.OT.ineq)\n",
    "\n",
    "komo.addObjective([1.], ry.FS.position, ['l_gripper'], ry.OT.eq, [1e1], gripping_pos)\n",
    "komo.addObjective([1.], ry.FS.vectorX, [\"l_gripper\"], ry.OT.eq, [1e1], gripping_angle)\n",
    "\n",
    "ret = ry.NLP_Solver().setProblem(komo.nlp()).setOptions(stopTolerance=1e-2, verbose=0).solve()\n",
    "print(ret)\n",
    "bot.move(komo.getPath(), [3.])\n",
    "while bot.getTimeToEnd() > 0:\n",
    "    bot.sync(C, .1)\n",
    "\n",
    "bot.gripperClose(ry._left)\n",
    "while not bot.gripperDone(ry._left):\n",
    "    bot.sync(C, .1)\n",
    "\n",
    "bot.home(C)\n",
    "while bot.getTimeToEnd() > 0:\n",
    "    bot.sync(C, .1)\n",
    "\n",
    "bot.gripperMove(ry._left)\n",
    "while not bot.gripperDone(ry._left):\n",
    "    bot.sync(C, .1)"
   ]
  },
  {
   "cell_type": "code",
   "execution_count": 9,
   "metadata": {},
   "outputs": [
    {
     "data": {
      "text/plain": [
       "0"
      ]
     },
     "execution_count": 9,
     "metadata": {},
     "output_type": "execute_result"
    }
   ],
   "source": [
    "bot.home(C)\n",
    "C.view(True)"
   ]
  },
  {
   "cell_type": "code",
   "execution_count": 10,
   "metadata": {},
   "outputs": [
    {
     "name": "stdout",
     "output_type": "stream",
     "text": [
      "-- bot.cpp:~BotOp:118(0) shutting down BotOp...\n",
      "-- simulation.cpp:~BotThreadedSim:56(0) shutting down SimThread\n",
      "-- simulation.cpp:~Simulation:148(0) shutting down Simulation\n"
     ]
    }
   ],
   "source": [
    "del bot\n",
    "del C"
   ]
  }
 ],
 "metadata": {
  "kernelspec": {
   "display_name": "Python 3",
   "language": "python3.7",
   "name": "python3"
  },
  "language_info": {
   "codemirror_mode": {
    "name": "ipython",
    "version": 3
   },
   "file_extension": ".py",
   "mimetype": "text/x-python",
   "name": "python",
   "nbconvert_exporter": "python",
   "pygments_lexer": "ipython3",
   "version": "3.8.10"
  },
  "orig_nbformat": 4
 },
 "nbformat": 4,
 "nbformat_minor": 2
}
