{
 "cells": [
  {
   "cell_type": "code",
   "execution_count": 11,
   "metadata": {},
   "outputs": [],
   "source": [
    "import robotic as ry\n",
    "import numpy as np\n",
    "from visual import getObject, lookAtObj, scanObject\n",
    "from arena import *\n",
    "import open3d as o3d\n",
    "import random\n",
    "import copy\n",
    "\n",
    "INITIAL_OBJ_POS = [-.5, 0, .69]\n",
    "ON_REAL = False\n",
    "ARENA_POS = np.array([-.54, -.17, .651])\n",
    "\n",
    "GRIPPER_FINGER_SEPARATION = .075\n",
    "GRIPPER_FINGER_WIDTH = .025\n",
    "\n",
    "def validSideDistance(p1, p2, n):\n",
    "    dist = np.linalg.norm(p2-p1)\n",
    "    normal_dist = abs(np.dot(p1 - p2, n) / np.linalg.norm(n))\n",
    "    side_dist = np.sqrt(dist*dist-normal_dist*normal_dist)\n",
    "    return side_dist <= GRIPPER_FINGER_WIDTH*.5\n",
    "\n",
    "def validNormalDistance(p1, p2, n, dist_thresh=GRIPPER_FINGER_SEPARATION):\n",
    "    return (abs(np.dot(p1 - p2, n) / np.linalg.norm(n)) <= dist_thresh\n",
    "            and abs(np.dot(p1 - p2, n) / np.linalg.norm(n)) >= GRIPPER_FINGER_WIDTH)\n",
    "\n",
    "def validNormalRelativeDir(p1, p2, n):\n",
    "    p2pvec = p2-p1\n",
    "    dot_product = np.dot(n, p2pvec)\n",
    "    # Normal vector has magnitude one so we ignore it\n",
    "    magnitude_vector = np.linalg.norm(p2pvec)\n",
    "    cosine_angle = dot_product / magnitude_vector\n",
    "    return cosine_angle <= 0\n",
    "\n",
    "def validNormalDir(n1, n2):\n",
    "    upvec = np.array([0., 0., 1.])\n",
    "    dot_product1 = np.dot(n1, upvec)\n",
    "    dot_product2 = np.dot(n2, upvec)\n",
    "    return dot_product1 >= 0 and dot_product2 >= 0\n",
    "\n",
    "def ICP_matrix(source, target, iterations=10, threshold=.02, trans_init=np.identity(4)):\n",
    "    source_copy = copy.deepcopy(source)\n",
    "\n",
    "    cumulative_transformation = np.identity(4)\n",
    "\n",
    "    for _ in range(iterations):\n",
    "        source_filtered, _ = source_copy.remove_statistical_outlier(nb_neighbors=20, std_ratio=2.0)\n",
    "        target_filtered, _ = target.remove_statistical_outlier(nb_neighbors=20, std_ratio=2.0)\n",
    "        source_downsampled = source_filtered.voxel_down_sample(voxel_size=0.001)\n",
    "        target_downsampled = target_filtered.voxel_down_sample(voxel_size=0.001)\n",
    "\n",
    "        reg_p2p = o3d.pipelines.registration.registration_icp(\n",
    "            source_downsampled, target_downsampled, threshold, trans_init,\n",
    "            o3d.pipelines.registration.TransformationEstimationPointToPoint())\n",
    "        cumulative_transformation = np.dot(reg_p2p.transformation, cumulative_transformation)\n",
    "        source_copy.transform(reg_p2p.transformation)\n",
    "\n",
    "    return cumulative_transformation\n",
    "\n",
    "def mstorePCR(point_clouds, smoothing=False, verbose=0):\n",
    "    result = point_clouds[0]\n",
    "    \n",
    "    for i in range(len(point_clouds)-1):\n",
    "        source, target = point_clouds[i+1], point_clouds[i]\n",
    "        m = ICP_matrix(source, target)\n",
    "\n",
    "        source.transform(m)\n",
    "        result += source\n",
    "\n",
    "        if smoothing:\n",
    "            result, _ = result.remove_statistical_outlier(nb_neighbors=20, std_ratio=2.0)\n",
    "            result = result.voxel_down_sample(voxel_size=0.001)\n",
    "\n",
    "    if verbose:\n",
    "        o3d.visualization.draw_geometries([result])\n",
    "    return result"
   ]
  },
  {
   "cell_type": "code",
   "execution_count": 12,
   "metadata": {},
   "outputs": [
    {
     "name": "stdout",
     "output_type": "stream",
     "text": [
      "-- module.cpp:operator():95(0) python,\n",
      "RealSense/resolution: 640,\n",
      "RealSense/alignToDepth!,\n",
      "physx/motorKp: 10000,\n",
      "physx/motorKd: 1000,\n",
      "physx/multiBody!,\n",
      "bot/useGripper,\n",
      "bot/useRobotiq!,\n",
      "bot/useArm: left,\n",
      "bot/blockRealRobot!,\n",
      "botsim/hyperSpeed: 1,\n",
      "botsim/verbose: 1,\n",
      "botsim/engine: physx,\n",
      "physx/verbose: 1,\n",
      "physx/yGravity!,\n",
      "physx/softBody!,\n",
      "physx/multiBodyDisableGravity,\n",
      "physx/jointedBodies!,\n",
      "physx/angularDamping: 0.1,\n",
      "physx/defaultFriction: 1,\n",
      "physx/defaultRestitution: 0.1,\n",
      "bot/useOptitrack!,\n",
      "bot/useAudio!,\n",
      "KOMO/verbose: 1,\n",
      "KOMO/animateOptimization: 0,\n",
      "KOMO/mimicStable,\n",
      "KOMO/useFCL,\n",
      "KOMO/unscaleEqIneqReport!,\n",
      "KOMO/sampleRate_stable: 0,\n",
      "opt/verbose: 1,\n",
      "opt/stopTolerance: 0.01,\n",
      "opt/stopFTolerance: -1,\n",
      "opt/stopGTolerance: -1,\n",
      "opt/stopEvals: 1000,\n",
      "opt/stopIters: 1000,\n",
      "opt/stopOuters: 1000,\n",
      "opt/stopLineSteps: 10,\n",
      "opt/stopTinySteps: 10,\n",
      "opt/initStep: 1,\n",
      "opt/minStep: -1,\n",
      "opt/maxStep: 0.2,\n",
      "opt/damping: 1,\n",
      "opt/stepInc: 1.5,\n",
      "opt/stepDec: 0.5,\n",
      "opt/wolfe: 0.01,\n",
      "opt/boundedNewton,\n",
      "opt/muInit: 1,\n",
      "opt/muInc: 5,\n",
      "opt/muMax: 10000,\n",
      "opt/muLBInit: 0.1,\n",
      "opt/muLBDec: 0.2,\n",
      "opt/maxLambda: -1,\n",
      "opt/constrainedMethod: ,\n",
      "seed: 0,\n",
      "bot/raiseWindow!\n"
     ]
    }
   ],
   "source": [
    "#-- load parameters, typically automatically from 'rai.cfg'\n",
    "ry.params_print()\n",
    "verbose = 0\n",
    "\n",
    "#-- define a configuration\n",
    "C = ry.Config()\n",
    "C.addFile(ry.raiPath('scenarios/pandaSingle.g'))\n",
    "\n",
    "obj = C.addFrame('obj')\n",
    "obj.setShape(ry.ST.ssBox, size=[.05, .09, .1, .005])\n",
    "obj.setPosition(INITIAL_OBJ_POS)\n",
    "obj.setColor([1, .5, .5])\n",
    "obj.setMass(.1)\n",
    "obj.setContact(True)\n",
    "\n",
    "C.addFrame('predicted_obj') \\\n",
    "    .setShape(ry.ST.marker, size=[.1]) \\\n",
    "    .setPosition(INITIAL_OBJ_POS) \\\n",
    "    .setColor([1, 0, 0])\n",
    "\n",
    "for i in range(32):\n",
    "    C.addFrame(f'view_point_{i}') \\\n",
    "        .setPosition([0, 0, 0]) \\\n",
    "        .setShape(ry.ST.sphere, size=[.02]) \\\n",
    "        .setColor([1, 1, 0])\n",
    "\n",
    "bot = ry.BotOp(C, ON_REAL)\n",
    "\n",
    "obj_pos = INITIAL_OBJ_POS\n",
    "\n",
    "# Generate Arena\n",
    "arena = CircularArena(middleP=ARENA_POS, innerR=None, outerR=.3)\n",
    "arena.plotArena(C)"
   ]
  },
  {
   "cell_type": "code",
   "execution_count": 13,
   "metadata": {},
   "outputs": [
    {
     "name": "stdout",
     "output_type": "stream",
     "text": [
      "{ time: 0.002, evals: 9, done: 1, feasible: 1, sos: 0.0102726, f: 0, ineq: 0, eq: 0.0112763 }\n"
     ]
    }
   ],
   "source": [
    "# Point towards set initial object position\n",
    "lookAtObj(bot, C, np.array(INITIAL_OBJ_POS))\n",
    "\n",
    "# Capture midpoint from point cloud\n",
    "obj_pos  = getObject(bot, C, arena) \n",
    "\n",
    "scanned_views_ = scanObject(bot, C, np.array(obj_pos), arena, view_count=8)\n",
    "scanned_views = []\n",
    "for sv in scanned_views_:\n",
    "    point_cloud_obj = o3d.geometry.PointCloud()\n",
    "    point_cloud_obj.points = o3d.utility.Vector3dVector(sv)\n",
    "    scanned_views.append(point_cloud_obj)"
   ]
  },
  {
   "cell_type": "code",
   "execution_count": null,
   "metadata": {},
   "outputs": [
    {
     "name": "stdout",
     "output_type": "stream",
     "text": [
      "Starting loop...\n",
      "Ending loop...\n",
      "Starting loop...\n",
      "Ending loop...\n"
     ]
    }
   ],
   "source": [
    "final_points = piece_pci_overlap(scanned_views)"
   ]
  },
  {
   "cell_type": "code",
   "execution_count": null,
   "metadata": {},
   "outputs": [],
   "source": [
    "pclFrame = C.getFrame(\"pcl\")\n",
    "pclFrame.setPointCloud(np.asarray(final_points.points))\n",
    "C.view_recopyMeshes()"
   ]
  },
  {
   "cell_type": "code",
   "execution_count": null,
   "metadata": {},
   "outputs": [
    {
     "name": "stdout",
     "output_type": "stream",
     "text": [
      "Matching atimodal points: 100/2199 (4.55%) Done\n",
      "Matching atimodal points: 200/2199 (9.10%) Done\n",
      "Matching atimodal points: 300/2199 (13.64%) Done\n",
      "Matching atimodal points: 400/2199 (18.19%) Done\n",
      "Matching atimodal points: 500/2199 (22.74%) Done\n",
      "Matching atimodal points: 600/2199 (27.29%) Done\n",
      "Matching atimodal points: 700/2199 (31.83%) Done\n",
      "Matching atimodal points: 800/2199 (36.38%) Done\n",
      "Matching atimodal points: 900/2199 (40.93%) Done\n",
      "Matching atimodal points: 1000/2199 (45.48%) Done\n",
      "Matching atimodal points: 1100/2199 (50.02%) Done\n",
      "Matching atimodal points: 1200/2199 (54.57%) Done\n",
      "Matching atimodal points: 1300/2199 (59.12%) Done\n",
      "Matching atimodal points: 1400/2199 (63.67%) Done\n",
      "Matching atimodal points: 1500/2199 (68.21%) Done\n",
      "Matching atimodal points: 1600/2199 (72.76%) Done\n",
      "Matching atimodal points: 1700/2199 (77.31%) Done\n",
      "Matching atimodal points: 1800/2199 (81.86%) Done\n",
      "Matching atimodal points: 1900/2199 (86.40%) Done\n",
      "Matching atimodal points: 2000/2199 (90.95%) Done\n",
      "Matching atimodal points: 2100/2199 (95.50%) Done\n",
      "Antipodal pairs found: [(4, 11), (4, 250), (50, 1806), (94, 871), (138, 460), (144, 278), (144, 306), (144, 454), (144, 1220), (144, 1418), (144, 1424), (144, 1539), (144, 1637), (144, 2082), (171, 1806), (171, 2164), (202, 738), (231, 1806), (317, 1194), (369, 382), (369, 565), (369, 639), (369, 1267), (369, 1420), (369, 1834), (397, 1194), (397, 2082), (420, 1220), (420, 1418), (420, 1424), (420, 1637), (465, 1629), (491, 920), (491, 984), (491, 1220), (491, 1418), (491, 1424), (491, 1539), (613, 2085), (616, 2186), (616, 2194), (648, 1066), (683, 1133), (683, 1220), (683, 1418), (683, 1539), (683, 1637), (683, 2082), (689, 1731), (715, 1486), (740, 920), (740, 1539), (745, 1253), (745, 1629), (754, 1166), (802, 1194), (827, 1539), (887, 1064), (902, 1692), (939, 1220), (939, 1418), (939, 1539), (939, 1637), (939, 2082), (941, 1121), (941, 1637), (941, 2082), (1003, 1194), (1025, 1486), (1025, 1731), (1030, 1539), (1053, 1486), (1094, 1539), (1094, 1637), (1094, 2082), (1123, 1486), (1123, 1489), (1192, 1539), (1192, 1599), (1192, 2082), (1192, 2178), (1222, 1525), (1222, 1833), (1222, 2008), (1222, 2022), (1267, 1551), (1272, 1539), (1272, 1637), (1272, 2082), (1422, 1460), (1422, 1637), (1488, 1637), (1565, 2082), (1628, 2082), (1628, 2178), (1696, 2082), (1728, 2082), (1794, 2194), (1832, 2082), (1928, 1965), (1953, 2082)]\n"
     ]
    }
   ],
   "source": [
    "def findPossibleGrasps(point_cloud, voxel_size=.005, verbose=3):\n",
    "\n",
    "    # Prepare point cloud\n",
    "    pcd = o3d.geometry.PointCloud()\n",
    "    pcd.points = o3d.utility.Vector3dVector(point_cloud)\n",
    "    if voxel_size: pcd = pcd.voxel_down_sample(voxel_size=voxel_size)\n",
    "    pcd.estimate_normals(\n",
    "        search_param=o3d.geometry.KDTreeSearchParamHybrid(radius=0.1, max_nn=30))\n",
    "    if verbose > 2:\n",
    "        o3d.visualization.draw_geometries([pcd], point_show_normal=True)\n",
    "    \n",
    "    # Find antipodal pairs\n",
    "    antipodal_pairs = []\n",
    "    for i in range(len(pcd.points)):\n",
    "        normal_i = np.asarray(pcd.normals[i])\n",
    "        for j in range(i + 1, len(pcd.points)):\n",
    "            normal_j = np.asarray(pcd.normals[j])\n",
    "            dot_product = np.dot(normal_i, normal_j)\n",
    "            if (dot_product < -0.7 and\n",
    "                validSideDistance(pcd.points[i], pcd.points[j], pcd.normals[i]) and\n",
    "                validNormalDistance(pcd.points[i], pcd.points[j], pcd.normals[i]) and\n",
    "                validNormalRelativeDir(pcd.points[i], pcd.points[j], pcd.normals[i])\n",
    "                and validNormalDir(pcd.points[j], pcd.normals[i])\n",
    "                ):\n",
    "                    antipodal_pairs.append((i, j))\n",
    "        if verbose > 2 and (i+1)%100 == 0:\n",
    "            print(f\"Matching atimodal points: {i+1}/{len(pcd.points)} ({((i+1)*100/len(pcd.points)):.2f}%) Done\")\n",
    "\n",
    "    if verbose:\n",
    "        print(\"Antipodal pairs found:\", antipodal_pairs)\n",
    "\n",
    "        if verbose > 1:\n",
    "            # Create a line set to visualize antipodal pairs\n",
    "            line_set = o3d.geometry.LineSet()\n",
    "\n",
    "            # Populate line_set with antipodal pairs\n",
    "            lines = []\n",
    "            for pair in antipodal_pairs:\n",
    "                lines.append([pair[0], pair[1]])\n",
    "            lines = np.array(lines).astype(np.int32)\n",
    "            line_set.points = o3d.utility.Vector3dVector(np.asarray(pcd.points))\n",
    "            line_set.lines = o3d.utility.Vector2iVector(lines)\n",
    "\n",
    "            # Set color of the lines to red\n",
    "            line_colors = np.array([[1, 0, 0] for _ in range(len(lines))])\n",
    "            line_set.colors = o3d.utility.Vector3dVector(line_colors)\n",
    "\n",
    "            # Visualize the point cloud and antipodal pairs\n",
    "            o3d.visualization.draw_geometries([pcd, line_set], point_show_normal=True)\n",
    "\n",
    "    return antipodal_pairs\n",
    "\n",
    "point_indices = findPossibleGrasps(np.asarray(final_points.points), voxel_size=.005, verbose=3)"
   ]
  },
  {
   "cell_type": "code",
   "execution_count": null,
   "metadata": {},
   "outputs": [],
   "source": [
    "random_grasp_indices = random.choice(point_indices)\n",
    "gripping_pos = (final_points.points[random_grasp_indices[0]] + final_points.points[random_grasp_indices[1]]) * .5\n",
    "gripping_angle = final_points.points[random_grasp_indices[0]] + final_points.points[random_grasp_indices[1]]\n",
    "gripping_angle /= np.linalg.norm(gripping_angle)"
   ]
  },
  {
   "cell_type": "code",
   "execution_count": null,
   "metadata": {},
   "outputs": [
    {
     "name": "stdout",
     "output_type": "stream",
     "text": [
      "{ time: 0.003171, evals: 18, done: 1, feasible: 1, sos: 0, f: 0, ineq: 0, eq: 0.109014 }\n"
     ]
    }
   ],
   "source": [
    "bot.home(C)\n",
    "while bot.getTimeToEnd() > 0:\n",
    "    bot.sync(C, .1)\n",
    "    \n",
    "bot.gripperMove(ry._left)\n",
    "while not bot.gripperDone(ry._left):\n",
    "    bot.sync(C, .1)\n",
    "\n",
    "bot.sync(C)\n",
    "\n",
    "komo = ry.KOMO()\n",
    "komo.setConfig(C, True)\n",
    "komo.setTiming(1., 1, 1., 0)\n",
    "\n",
    "komo.addObjective([], ry.FS.accumulatedCollisions, [], ry.OT.eq)\n",
    "komo.addObjective([], ry.FS.jointLimits, [], ry.OT.ineq)\n",
    "\n",
    "komo.addObjective([1.], ry.FS.position, ['l_gripper'], ry.OT.eq, [1e1], gripping_pos)\n",
    "komo.addObjective([1.], ry.FS.vectorX, [\"l_gripper\"], ry.OT.eq, [1e1], gripping_angle)\n",
    "\n",
    "ret = ry.NLP_Solver().setProblem(komo.nlp()).setOptions(stopTolerance=1e-2, verbose=0).solve()\n",
    "print(ret)\n",
    "bot.move(komo.getPath(), [3.])\n",
    "while bot.getTimeToEnd() > 0:\n",
    "    bot.sync(C, .1)\n",
    "\n",
    "bot.gripperClose(ry._left)\n",
    "while not bot.gripperDone(ry._left):\n",
    "    bot.sync(C, .1)\n",
    "\n",
    "bot.home(C)\n",
    "while bot.getTimeToEnd() > 0:\n",
    "    bot.sync(C, .1)\n",
    "\n",
    "bot.gripperMove(ry._left)\n",
    "while not bot.gripperDone(ry._left):\n",
    "    bot.sync(C, .1)"
   ]
  },
  {
   "cell_type": "code",
   "execution_count": null,
   "metadata": {},
   "outputs": [
    {
     "data": {
      "text/plain": [
       "0"
      ]
     },
     "execution_count": 9,
     "metadata": {},
     "output_type": "execute_result"
    }
   ],
   "source": [
    "bot.home(C)\n",
    "C.view(True)"
   ]
  },
  {
   "cell_type": "code",
   "execution_count": null,
   "metadata": {},
   "outputs": [
    {
     "name": "stdout",
     "output_type": "stream",
     "text": [
      "-- bot.cpp:~BotOp:118(0) shutting down BotOp...\n",
      "-- simulation.cpp:~BotThreadedSim:56(0) shutting down SimThread\n",
      "-- simulation.cpp:~Simulation:148(0) shutting down Simulation\n"
     ]
    }
   ],
   "source": [
    "del bot\n",
    "del C"
   ]
  }
 ],
 "metadata": {
  "kernelspec": {
   "display_name": "Python 3",
   "language": "python3.7",
   "name": "python3"
  },
  "language_info": {
   "codemirror_mode": {
    "name": "ipython",
    "version": 3
   },
   "file_extension": ".py",
   "mimetype": "text/x-python",
   "name": "python",
   "nbconvert_exporter": "python",
   "pygments_lexer": "ipython3",
   "version": "3.8.10"
  },
  "orig_nbformat": 4
 },
 "nbformat": 4,
 "nbformat_minor": 2
}
