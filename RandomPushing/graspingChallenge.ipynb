{
 "cells": [
  {
   "cell_type": "code",
   "execution_count": 1,
   "metadata": {},
   "outputs": [
    {
     "name": "stdout",
     "output_type": "stream",
     "text": [
      "Jupyter environment detected. Enabling Open3D WebVisualizer.\n",
      "[Open3D INFO] WebRTC GUI backend enabled.\n",
      "[Open3D INFO] WebRTCWindowSystem: HTTP handshake server disabled.\n"
     ]
    }
   ],
   "source": [
    "import robotic as ry\n",
    "import numpy as np\n",
    "from visual import getObject, lookAtObj, scanObject, piece_pci\n",
    "from arena import *\n",
    "import open3d as o3d\n",
    "import random\n",
    "\n",
    "INITIAL_OBJ_POS = [-.5, 0, .69]\n",
    "ON_REAL = False\n",
    "ARENA_POS = np.array([-.54, -.17, .651])\n",
    "\n",
    "GRIPPER_FINGER_SEPARATION = .075\n",
    "GRIPPER_FINGER_WIDTH = .025\n",
    "\n",
    "def validSideDistance(p1, p2, n):\n",
    "    dist = np.linalg.norm(p2-p1)\n",
    "    normal_dist = abs(np.dot(p1 - p2, n) / np.linalg.norm(n))\n",
    "    side_dist = np.sqrt(dist*dist-normal_dist*normal_dist)\n",
    "    return side_dist <= GRIPPER_FINGER_WIDTH*.5\n",
    "\n",
    "def validNormalDistance(p1, p2, n, dist_thresh=GRIPPER_FINGER_SEPARATION):\n",
    "    return (abs(np.dot(p1 - p2, n) / np.linalg.norm(n)) <= dist_thresh\n",
    "            and abs(np.dot(p1 - p2, n) / np.linalg.norm(n)) >= GRIPPER_FINGER_WIDTH)\n",
    "\n",
    "def validNormalRelativeDir(p1, p2, n):\n",
    "    p2pvec = p2-p1\n",
    "    dot_product = np.dot(n, p2pvec)\n",
    "    # Normal vector has magnitude one so we ignore it\n",
    "    magnitude_vector = np.linalg.norm(p2pvec)\n",
    "    cosine_angle = dot_product / magnitude_vector\n",
    "    return cosine_angle <= 0\n",
    "\n",
    "def validNormalDir(n1, n2):\n",
    "    upvec = np.array([0., 0., 1.])\n",
    "    dot_product1 = np.dot(n1, upvec)\n",
    "    dot_product2 = np.dot(n2, upvec)\n",
    "    return dot_product1 >= 0 and dot_product2 >= 0\n",
    "\n"
   ]
  },
  {
   "cell_type": "code",
   "execution_count": 2,
   "metadata": {},
   "outputs": [
    {
     "name": "stdout",
     "output_type": "stream",
     "text": [
      "-- module.cpp:operator():95(0) python,\n",
      "RealSense/resolution: 640,\n",
      "RealSense/alignToDepth!,\n",
      "physx/motorKp: 10000,\n",
      "physx/motorKd: 1000,\n",
      "physx/multiBody!\n"
     ]
    }
   ],
   "source": [
    "#-- load parameters, typically automatically from 'rai.cfg'\n",
    "ry.params_print()\n",
    "verbose = 0\n",
    "\n",
    "#-- define a configuration\n",
    "C = ry.Config()\n",
    "C.addFile(ry.raiPath('scenarios/pandaSingle.g'))\n",
    "\n",
    "obj = C.addFrame('obj')\n",
    "obj.setShape(ry.ST.ssBox, size=[.05, .09, .1, .005])\n",
    "obj.setPosition(INITIAL_OBJ_POS)\n",
    "obj.setColor([1, .5, .5])\n",
    "obj.setMass(.1)\n",
    "obj.setContact(True)\n",
    "\n",
    "C.addFrame('predicted_obj') \\\n",
    "    .setShape(ry.ST.marker, size=[.1]) \\\n",
    "    .setPosition(INITIAL_OBJ_POS) \\\n",
    "    .setColor([1, 0, 0])\n",
    "\n",
    "for i in range(32):\n",
    "    C.addFrame(f'view_point_{i}') \\\n",
    "        .setPosition([0, 0, 0]) \\\n",
    "        .setShape(ry.ST.sphere, size=[.02]) \\\n",
    "        .setColor([1, 1, 0])\n",
    "\n",
    "bot = ry.BotOp(C, ON_REAL)\n",
    "\n",
    "obj_pos = INITIAL_OBJ_POS\n",
    "\n",
    "# Generate Arena\n",
    "arena = CircularArena(middleP=ARENA_POS, innerR=None, outerR=.3)\n",
    "arena.plotArena(C)"
   ]
  },
  {
   "cell_type": "code",
   "execution_count": 3,
   "metadata": {},
   "outputs": [
    {
     "name": "stdout",
     "output_type": "stream",
     "text": [
      "{ time: 0.006117, evals: 10, done: 1, feasible: 1, sos: 0.010296, f: 0, ineq: 0, eq: 0.0113002 }\n",
      "-- WARNING:kin.cpp:getFrame:393(-1) cannot find frame named 'pcl'\n",
      "{ time: 0.004728, evals: 19, done: 1, feasible: 1, sos: 0, f: 0, ineq: 0, eq: 0.00304091 }\n",
      "{ time: 0.002891, evals: 13, done: 1, feasible: 1, sos: 0, f: 0, ineq: 0, eq: 0.00374233 }\n",
      "{ time: 0.005945, evals: 12, done: 1, feasible: 1, sos: 0, f: 0, ineq: 0, eq: 0.0042577 }\n",
      "{ time: 0.029588, evals: 59, done: 1, feasible: 1, sos: 0, f: 0, ineq: 0, eq: 0.071881 }\n",
      "{ time: 0.002945, evals: 11, done: 1, feasible: 1, sos: 0, f: 0, ineq: 0, eq: 0.0036227 }\n",
      "{ time: 0.00383, evals: 20, done: 1, feasible: 1, sos: 0, f: 0, ineq: 0, eq: 0.00308376 }\n",
      "{ time: 0.092977, evals: 351, done: 1, feasible: 0, sos: 0, f: 0, ineq: 0, eq: 0.826737 }\n",
      "{ time: 0.011117, evals: 52, done: 1, feasible: 0, sos: 0, f: 0, ineq: 0, eq: 0.824008 }\n"
     ]
    }
   ],
   "source": [
    "# Point towards set initial object position\n",
    "lookAtObj(bot, C, np.array(INITIAL_OBJ_POS))\n",
    "\n",
    "# Capture midpoint from point cloud\n",
    "obj_pos  = getObject(bot, C, arena) \n",
    "\n",
    "scanned_views_ = scanObject(bot, C, np.array(obj_pos), arena, view_count=8)\n",
    "scanned_views = []\n",
    "for sv in scanned_views_:\n",
    "    point_cloud_obj = o3d.geometry.PointCloud()\n",
    "    point_cloud_obj.points = o3d.utility.Vector3dVector(sv)\n",
    "    scanned_views.append(point_cloud_obj)"
   ]
  },
  {
   "cell_type": "code",
   "execution_count": 4,
   "metadata": {},
   "outputs": [
    {
     "name": "stdout",
     "output_type": "stream",
     "text": [
      "Starting loop...\n",
      "Ending loop...\n",
      "Starting loop...\n",
      "Ending loop...\n",
      "Starting loop...\n",
      "Ending loop...\n"
     ]
    }
   ],
   "source": [
    "final_points = piece_pci(scanned_views)"
   ]
  },
  {
   "cell_type": "code",
   "execution_count": 5,
   "metadata": {},
   "outputs": [],
   "source": [
    "pclFrame = C.getFrame(\"pcl\")\n",
    "pclFrame.setPointCloud(np.asarray(final_points.points))\n",
    "C.view_recopyMeshes()"
   ]
  },
  {
   "cell_type": "code",
   "execution_count": 6,
   "metadata": {},
   "outputs": [
    {
     "name": "stdout",
     "output_type": "stream",
     "text": [
      "Matching atimodal points: 100/2024 (4.94%) Done\n",
      "Matching atimodal points: 200/2024 (9.88%) Done\n",
      "Matching atimodal points: 300/2024 (14.82%) Done\n",
      "Matching atimodal points: 400/2024 (19.76%) Done\n",
      "Matching atimodal points: 500/2024 (24.70%) Done\n",
      "Matching atimodal points: 600/2024 (29.64%) Done\n",
      "Matching atimodal points: 700/2024 (34.58%) Done\n",
      "Matching atimodal points: 800/2024 (39.53%) Done\n",
      "Matching atimodal points: 900/2024 (44.47%) Done\n",
      "Matching atimodal points: 1000/2024 (49.41%) Done\n",
      "Matching atimodal points: 1100/2024 (54.35%) Done\n",
      "Matching atimodal points: 1200/2024 (59.29%) Done\n",
      "Matching atimodal points: 1300/2024 (64.23%) Done\n",
      "Matching atimodal points: 1400/2024 (69.17%) Done\n",
      "Matching atimodal points: 1500/2024 (74.11%) Done\n",
      "Matching atimodal points: 1600/2024 (79.05%) Done\n",
      "Matching atimodal points: 1700/2024 (83.99%) Done\n",
      "Matching atimodal points: 1800/2024 (88.93%) Done\n",
      "Matching atimodal points: 1900/2024 (93.87%) Done\n",
      "Matching atimodal points: 2000/2024 (98.81%) Done\n",
      "Antipodal pairs found: [(6, 531), (6, 1171), (9, 531), (9, 1171), (41, 1171), (42, 271), (42, 1102), (58, 289), (80, 527), (84, 1171), (87, 271), (87, 1102), (104, 470), (104, 1251), (104, 1850), (107, 1938), (107, 1999), (124, 139), (124, 140), (124, 1938), (124, 1999), (136, 516), (137, 1171), (146, 687), (146, 921), (146, 1591), (148, 1171), (156, 470), (157, 271), (157, 335), (157, 1102), (170, 1171), (171, 300), (171, 476), (171, 1922), (184, 1251), (184, 1850), (201, 497), (202, 1922), (207, 251), (207, 1169), (207, 1171), (213, 439), (213, 1130), (213, 1846), (213, 1850), (213, 1855), (214, 439), (214, 1251), (214, 1846), (222, 1846), (226, 1171), (235, 1169), (235, 1171), (238, 1954), (249, 476), (249, 1120), (249, 1922), (252, 1169), (252, 1171), (253, 687), (253, 1591), (257, 470), (257, 1130), (257, 1251), (257, 1665), (284, 1540), (284, 1586), (302, 527), (302, 1846), (302, 1855), (304, 1938), (304, 1999), (307, 527), (310, 766), (310, 768), (310, 917), (310, 1691), (310, 2009), (315, 1102), (317, 1171), (326, 1058), (326, 1446), (326, 2009), (331, 1922), (335, 877), (335, 1130), (335, 1251), (347, 555), (347, 766), (347, 768), (347, 1125), (347, 1691), (349, 577), (349, 1938), (349, 1999), (355, 476), (355, 1120), (355, 1922), (358, 555), (358, 736), (358, 768), (358, 877), (358, 1125), (358, 1193), (358, 1691), (358, 1708), (358, 1954), (358, 1986), (366, 476), (367, 555), (367, 1125), (367, 1465), (367, 1708), (367, 1867), (367, 1954), (367, 1986), (400, 1169), (400, 1171), (421, 591), (421, 1102), (426, 476), (426, 1922), (430, 484), (430, 1620), (430, 1842), (430, 1938), (430, 1999), (431, 1102), (457, 550), (457, 969), (457, 1480), (457, 1502), (457, 2016), (461, 1171), (463, 1102), (464, 484), (464, 1620), (464, 1842), (464, 1938), (464, 1979), (464, 1999), (467, 1171), (471, 1251), (471, 1850), (475, 1938), (475, 1999), (480, 1102), (485, 516), (485, 736), (485, 877), (485, 1130), (485, 1193), (485, 1708), (485, 1954), (485, 1986), (490, 1102), (507, 687), (507, 1591), (510, 1171), (519, 1251), (519, 1846), (528, 555), (528, 768), (528, 877), (528, 1125), (528, 1193), (528, 1446), (528, 1691), (528, 1708), (528, 1954), (528, 1986), (530, 687), (530, 921), (530, 1169), (530, 1591), (555, 808), (555, 1620), (555, 1785), (560, 1259), (560, 1540), (560, 1586), (560, 1690), (572, 1665), (572, 1846), (572, 1855), (578, 1846), (578, 1855), (581, 1855), (586, 1171), (595, 1775), (595, 1846), (595, 1850), (595, 1855), (613, 804), (613, 819), (613, 921), (613, 1169), (635, 1922), (643, 1922), (644, 1665), (644, 1846), (648, 687), (648, 921), (648, 1169), (648, 1591), (660, 1922), (690, 877), (690, 1446), (690, 1798), (697, 1842), (697, 1999), (702, 804), (702, 819), (702, 1169), (702, 1420), (703, 1251), (718, 1130), (718, 1251), (718, 1665), (718, 1798), (718, 1846), (718, 1850), (721, 1102), (723, 877), (723, 1193), (723, 1446), (723, 1691), (723, 1708), (723, 1954), (725, 1922), (734, 1798), (734, 1846), (734, 1855), (746, 1922), (750, 1251), (750, 1850), (758, 1793), (758, 1967), (758, 2007), (759, 1169), (765, 877), (765, 1125), (765, 1193), (765, 1691), (765, 1708), (765, 1954), (765, 1986), (766, 893), (766, 1102), (766, 1330), (766, 1563), (766, 1785), (766, 1793), (766, 1832), (766, 1967), (825, 844), (825, 886), (825, 897), (825, 936), (825, 1125), (825, 1193), (825, 1219), (825, 1446), (825, 1465), (825, 1499), (825, 1565), (825, 1691), (825, 1798), (825, 1867), (825, 1928), (825, 1954), (825, 1990), (826, 1171), (831, 877), (831, 1130), (831, 1193), (831, 1708), (831, 1954), (832, 1922), (841, 1341), (841, 1620), (841, 1842), (841, 1938), (841, 1999), (855, 1540), (868, 1251), (868, 1850), (871, 1620), (871, 1938), (871, 1999), (879, 1623), (896, 1251), (896, 1850), (898, 996), (898, 1846), (898, 1855), (910, 913), (910, 1042), (910, 1471), (910, 1795), (910, 1938), (910, 1999), (911, 1620), (911, 1938), (911, 1999), (928, 1251), (929, 1298), (929, 1435), (929, 1586), (929, 1975), (934, 1102), (942, 1922), (944, 1102), (945, 1922), (954, 1251), (954, 1850), (964, 1620), (964, 1938), (964, 1999), (968, 1842), (968, 1999), (984, 995), (984, 997), (984, 1043), (984, 1058), (984, 1085), (984, 1141), (984, 1183), (984, 1197), (984, 1198), (984, 1213), (984, 1219), (984, 1269), (984, 1474), (984, 1499), (984, 1565), (984, 1605), (984, 1672), (984, 1673), (984, 1693), (984, 1763), (984, 1909), (984, 1958), (984, 1990), (987, 1620), (987, 1842), (987, 1938), (987, 1999), (994, 1102), (1001, 1071), (1001, 1672), (1001, 2009), (1004, 1171), (1016, 1938), (1016, 1999), (1024, 1125), (1024, 1465), (1024, 1691), (1024, 1867), (1031, 1125), (1031, 1708), (1031, 1986), (1044, 1922), (1061, 1938), (1061, 1999), (1070, 1967), (1083, 1846), (1094, 1298), (1094, 1435), (1094, 1586), (1094, 1975), (1102, 1177), (1102, 1292), (1102, 1336), (1102, 1348), (1102, 1480), (1102, 1536), (1102, 1559), (1102, 1725), (1102, 1748), (1102, 1879), (1102, 2012), (1122, 1171), (1125, 1620), (1144, 1171), (1149, 1979), (1149, 1999), (1151, 1251), (1154, 1691), (1154, 2009), (1162, 1171), (1166, 1171), (1185, 1620), (1185, 1938), (1185, 1999), (1187, 1251), (1187, 1846), (1187, 1850), (1188, 1846), (1196, 1979), (1211, 1251), (1211, 1665), (1211, 1850), (1228, 1850), (1259, 1301), (1259, 1324), (1259, 1351), (1259, 1429), (1259, 1504), (1259, 1525), (1259, 1559), (1259, 1737), (1259, 1791), (1262, 1446), (1262, 1691), (1272, 1298), (1272, 1435), (1272, 1586), (1272, 1975), (1285, 1620), (1285, 1938), (1285, 1999), (1298, 1527), (1298, 1580), (1298, 1671), (1298, 1729), (1298, 2008), (1335, 1586), (1349, 1850), (1352, 1979), (1360, 1591), (1363, 1620), (1363, 1938), (1363, 1999), (1370, 1850), (1381, 1999), (1386, 2009), (1387, 1850), (1396, 1665), (1396, 1798), (1396, 1846), (1396, 1855), (1397, 1446), (1397, 2009), (1398, 1620), (1398, 1842), (1398, 1938), (1398, 1999), (1415, 1591), (1418, 1591), (1426, 1591), (1435, 1845), (1470, 1798), (1470, 1846), (1470, 1850), (1472, 1620), (1472, 1842), (1476, 1665), (1476, 1850), (1506, 1846), (1534, 1922), (1553, 1665), (1553, 1850), (1576, 1938), (1576, 1999), (1579, 1850), (1590, 1591), (1666, 1850), (1667, 1798), (1667, 1846), (1699, 1846), (1699, 1855), (1701, 1922), (1710, 1846), (1716, 1740), (1731, 1850), (1746, 1846), (1797, 1850), (1823, 1938), (1823, 1999), (1827, 2006), (1853, 2009), (1975, 2008)]\n"
     ]
    }
   ],
   "source": [
    "def findPossibleGrasps(point_cloud, voxel_size=.005, verbose=3):\n",
    "\n",
    "    # Prepare point cloud\n",
    "    pcd = o3d.geometry.PointCloud()\n",
    "    pcd.points = o3d.utility.Vector3dVector(point_cloud)\n",
    "    if voxel_size: pcd = pcd.voxel_down_sample(voxel_size=voxel_size)\n",
    "    pcd.estimate_normals(\n",
    "        search_param=o3d.geometry.KDTreeSearchParamHybrid(radius=0.1, max_nn=30))\n",
    "    if verbose > 2:\n",
    "        o3d.visualization.draw_geometries([pcd], point_show_normal=True)\n",
    "    \n",
    "    # Find antipodal pairs\n",
    "    antipodal_pairs = []\n",
    "    for i in range(len(pcd.points)):\n",
    "        normal_i = np.asarray(pcd.normals[i])\n",
    "        for j in range(i + 1, len(pcd.points)):\n",
    "            normal_j = np.asarray(pcd.normals[j])\n",
    "            dot_product = np.dot(normal_i, normal_j)\n",
    "            if (dot_product < -0.7 and\n",
    "                validSideDistance(pcd.points[i], pcd.points[j], pcd.normals[i]) and\n",
    "                validNormalDistance(pcd.points[i], pcd.points[j], pcd.normals[i]) and\n",
    "                validNormalRelativeDir(pcd.points[i], pcd.points[j], pcd.normals[i])\n",
    "                and validNormalDir(pcd.points[j], pcd.normals[i])\n",
    "                ):\n",
    "                    antipodal_pairs.append((i, j))\n",
    "        if verbose > 2 and (i+1)%100 == 0:\n",
    "            print(f\"Matching atimodal points: {i+1}/{len(pcd.points)} ({((i+1)*100/len(pcd.points)):.2f}%) Done\")\n",
    "\n",
    "    if verbose:\n",
    "        print(\"Antipodal pairs found:\", antipodal_pairs)\n",
    "\n",
    "        if verbose > 1:\n",
    "            # Create a line set to visualize antipodal pairs\n",
    "            line_set = o3d.geometry.LineSet()\n",
    "\n",
    "            # Populate line_set with antipodal pairs\n",
    "            lines = []\n",
    "            for pair in antipodal_pairs:\n",
    "                lines.append([pair[0], pair[1]])\n",
    "            lines = np.array(lines).astype(np.int32)\n",
    "            line_set.points = o3d.utility.Vector3dVector(np.asarray(pcd.points))\n",
    "            line_set.lines = o3d.utility.Vector2iVector(lines)\n",
    "\n",
    "            # Set color of the lines to red\n",
    "            line_colors = np.array([[1, 0, 0] for _ in range(len(lines))])\n",
    "            line_set.colors = o3d.utility.Vector3dVector(line_colors)\n",
    "\n",
    "            # Visualize the point cloud and antipodal pairs\n",
    "            o3d.visualization.draw_geometries([pcd, line_set], point_show_normal=True)\n",
    "\n",
    "    return antipodal_pairs\n",
    "\n",
    "point_indices = findPossibleGrasps(np.asarray(final_points.points), voxel_size=.005, verbose=3)"
   ]
  },
  {
   "cell_type": "code",
   "execution_count": 7,
   "metadata": {},
   "outputs": [],
   "source": [
    "random_grasp_indices = random.choice(point_indices)\n",
    "gripping_pos = (final_points.points[random_grasp_indices[0]] + final_points.points[random_grasp_indices[1]]) * .5\n",
    "gripping_angle = final_points.points[random_grasp_indices[0]] + final_points.points[random_grasp_indices[1]]\n",
    "gripping_angle /= np.linalg.norm(gripping_angle)"
   ]
  },
  {
   "cell_type": "code",
   "execution_count": 8,
   "metadata": {},
   "outputs": [
    {
     "name": "stdout",
     "output_type": "stream",
     "text": [
      "{ time: 0.008036, evals: 18, done: 1, feasible: 1, sos: 0, f: 0, ineq: 0, eq: 0.0342324 }\n"
     ]
    }
   ],
   "source": [
    "bot.home(C)\n",
    "while bot.getTimeToEnd() > 0:\n",
    "    bot.sync(C, .1)\n",
    "    \n",
    "bot.gripperMove(ry._left)\n",
    "while not bot.gripperDone(ry._left):\n",
    "    bot.sync(C, .1)\n",
    "\n",
    "bot.sync(C)\n",
    "\n",
    "komo = ry.KOMO()\n",
    "komo.setConfig(C, True)\n",
    "komo.setTiming(1., 1, 1., 0)\n",
    "\n",
    "komo.addObjective([], ry.FS.accumulatedCollisions, [], ry.OT.eq)\n",
    "komo.addObjective([], ry.FS.jointLimits, [], ry.OT.ineq)\n",
    "\n",
    "komo.addObjective([1.], ry.FS.position, ['l_gripper'], ry.OT.eq, [1e1], gripping_pos)\n",
    "komo.addObjective([1.], ry.FS.vectorX, [\"l_gripper\"], ry.OT.eq, [1e1], gripping_angle)\n",
    "\n",
    "ret = ry.NLP_Solver().setProblem(komo.nlp()).setOptions(stopTolerance=1e-2, verbose=0).solve()\n",
    "print(ret)\n",
    "bot.move(komo.getPath(), [3.])\n",
    "while bot.getTimeToEnd() > 0:\n",
    "    bot.sync(C, .1)\n",
    "\n",
    "bot.gripperClose(ry._left)\n",
    "while not bot.gripperDone(ry._left):\n",
    "    bot.sync(C, .1)\n",
    "\n",
    "bot.home(C)\n",
    "while bot.getTimeToEnd() > 0:\n",
    "    bot.sync(C, .1)\n",
    "\n",
    "bot.gripperMove(ry._left)\n",
    "while not bot.gripperDone(ry._left):\n",
    "    bot.sync(C, .1)"
   ]
  },
  {
   "cell_type": "code",
   "execution_count": 9,
   "metadata": {},
   "outputs": [
    {
     "data": {
      "text/plain": [
       "0"
      ]
     },
     "execution_count": 9,
     "metadata": {},
     "output_type": "execute_result"
    }
   ],
   "source": [
    "bot.home(C)\n",
    "C.view(True)"
   ]
  },
  {
   "cell_type": "code",
   "execution_count": 10,
   "metadata": {},
   "outputs": [
    {
     "name": "stdout",
     "output_type": "stream",
     "text": [
      "-- bot.cpp:~BotOp:122(0) shutting down BotOp...\n",
      "-- simulation.cpp:~BotThreadedSim:56(0) shutting down SimThread\n",
      "-- simulation.cpp:~Simulation:148(0) shutting down Simulation\n"
     ]
    }
   ],
   "source": [
    "del bot\n",
    "del C"
   ]
  }
 ],
 "metadata": {
  "kernelspec": {
   "display_name": "Python 3",
   "language": "python3.7",
   "name": "python3"
  },
  "language_info": {
   "codemirror_mode": {
    "name": "ipython",
    "version": 3
   },
   "file_extension": ".py",
   "mimetype": "text/x-python",
   "name": "python",
   "nbconvert_exporter": "python",
   "pygments_lexer": "ipython3",
   "version": "3.10.12"
  },
  "orig_nbformat": 4
 },
 "nbformat": 4,
 "nbformat_minor": 2
}
