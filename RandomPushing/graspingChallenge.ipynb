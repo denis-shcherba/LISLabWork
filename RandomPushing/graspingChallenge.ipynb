{
 "cells": [
  {
   "cell_type": "code",
   "execution_count": null,
   "metadata": {
    "vscode": {
     "languageId": "python"
    }
   },
   "outputs": [],
   "source": [
    "import robotic as ry\n",
    "import numpy as np\n",
    "from visual import getObject, lookAtObj, scanObject, piece_pci\n",
    "from arena import *\n",
    "import open3d as o3d\n",
    "import random\n",
    "\n",
    "INITIAL_OBJ_POS = [-.5, 0, .69]\n",
    "ON_REAL = False\n",
    "ARENA_POS = np.array([-.54, -.17, .651])\n",
    "\n",
    "GRIPPER_FINGER_SEPARATION = .075\n",
    "GRIPPER_FINGER_WIDTH = .025\n",
    "\n",
    "def validSideDistance(p1, p2, n):\n",
    "    dist = np.linalg.norm(p2-p1)\n",
    "    normal_dist = abs(np.dot(p1 - p2, n) / np.linalg.norm(n))\n",
    "    side_dist = np.sqrt(dist*dist-normal_dist*normal_dist)\n",
    "    return side_dist <= GRIPPER_FINGER_WIDTH*.5\n",
    "\n",
    "def validNormalDistance(p1, p2, n, dist_thresh=GRIPPER_FINGER_SEPARATION):\n",
    "    return (abs(np.dot(p1 - p2, n) / np.linalg.norm(n)) <= dist_thresh\n",
    "            and abs(np.dot(p1 - p2, n) / np.linalg.norm(n)) >= GRIPPER_FINGER_WIDTH)\n",
    "\n",
    "def validNormalRelativeDir(p1, p2, n):\n",
    "    p2pvec = p2-p1\n",
    "    dot_product = np.dot(n, p2pvec)\n",
    "    # Normal vector has magnitude one so we ignore it\n",
    "    magnitude_vector = np.linalg.norm(p2pvec)\n",
    "    cosine_angle = dot_product / magnitude_vector\n",
    "    return cosine_angle <= 0\n",
    "\n",
    "def validNormalDir(n1, n2):\n",
    "    upvec = np.array([0., 0., 1.])\n",
    "    dot_product1 = np.dot(n1, upvec)\n",
    "    dot_product2 = np.dot(n2, upvec)\n",
    "    return dot_product1 >= 0 and dot_product2 >= 0\n",
    "\n",
    "def findPossibleGrasps(point_cloud, verbose=0):\n",
    "\n",
    "    # Prepare point cloud\n",
    "    pcd = o3d.geometry.PointCloud()\n",
    "    pcd.points = o3d.utility.Vector3dVector(point_cloud)\n",
    "    pcd = pcd.voxel_down_sample(voxel_size=0.005)\n",
    "    pcd.estimate_normals(\n",
    "        search_param=o3d.geometry.KDTreeSearchParamHybrid(radius=0.1, max_nn=30))\n",
    "    \n",
    "    # Find antipodal pairs\n",
    "    antipodal_pairs = []\n",
    "    for i in range(len(pcd.points)):\n",
    "        normal_i = np.asarray(pcd.normals[i])\n",
    "        for j in range(i + 1, len(pcd.points)):\n",
    "            normal_j = np.asarray(pcd.normals[j])\n",
    "            dot_product = np.dot(normal_i, normal_j)\n",
    "            if (dot_product < -0.7 and\n",
    "                validSideDistance(pcd.points[i], pcd.points[j], pcd.normals[i]) and\n",
    "                validNormalDistance(pcd.points[i], pcd.points[j], pcd.normals[i]) and\n",
    "                validNormalRelativeDir(pcd.points[i], pcd.points[j], pcd.normals[i])\n",
    "                and validNormalDir(pcd.points[j], pcd.normals[i])\n",
    "                ):\n",
    "                    antipodal_pairs.append((i, j))\n",
    "\n",
    "    if verbose:\n",
    "        print(\"Antipodal pairs found:\", antipodal_pairs)\n",
    "\n",
    "        if verbose > 1:\n",
    "            # Create a line set to visualize antipodal pairs\n",
    "            line_set = o3d.geometry.LineSet()\n",
    "\n",
    "            # Populate line_set with antipodal pairs\n",
    "            lines = []\n",
    "            for pair in antipodal_pairs:\n",
    "                lines.append([pair[0], pair[1]])\n",
    "            lines = np.array(lines).astype(np.int32)\n",
    "            line_set.points = o3d.utility.Vector3dVector(np.asarray(pcd.points))\n",
    "            line_set.lines = o3d.utility.Vector2iVector(lines)\n",
    "\n",
    "            # Set color of the lines to red\n",
    "            line_colors = np.array([[1, 0, 0] for _ in range(len(lines))])\n",
    "            line_set.colors = o3d.utility.Vector3dVector(line_colors)\n",
    "\n",
    "            # Visualize the point cloud and antipodal pairs\n",
    "            o3d.visualization.draw_geometries([pcd, line_set], point_show_normal=True)\n",
    "\n",
    "    return antipodal_pairs"
   ]
  },
  {
   "cell_type": "code",
   "execution_count": null,
   "metadata": {
    "vscode": {
     "languageId": "python"
    }
   },
   "outputs": [],
   "source": [
    "#-- load parameters, typically automatically from 'rai.cfg'\n",
    "ry.params_print()\n",
    "verbose = 0\n",
    "\n",
    "#-- define a configuration\n",
    "C = ry.Config()\n",
    "C.addFile(ry.raiPath('scenarios/pandaSingle.g'))\n",
    "\n",
    "obj = C.addFrame('obj')\n",
    "obj.setShape(ry.ST.ssBox, size=[.05, .09, .04, .005])\n",
    "obj.setPosition(INITIAL_OBJ_POS)\n",
    "obj.setColor([1, .5, .5])\n",
    "\n",
    "C.addFrame('predicted_obj') \\\n",
    "    .setShape(ry.ST.marker, size=[.1]) \\\n",
    "    .setPosition(INITIAL_OBJ_POS) \\\n",
    "    .setColor([1, 0, 0])\n",
    "\n",
    "for i in range(32):\n",
    "    C.addFrame(f'view_point_{i}') \\\n",
    "        .setPosition([0, 0, 0]) \\\n",
    "        .setShape(ry.ST.sphere, size=[.02]) \\\n",
    "        .setColor([1, 1, 0])\n",
    "\n",
    "bot = ry.BotOp(C, ON_REAL)\n",
    "\n",
    "obj_pos = INITIAL_OBJ_POS\n",
    "\n",
    "# Generate Arena\n",
    "arena = CircularArena(middleP=ARENA_POS, innerR=None, outerR=.5)\n",
    "arena.plotArena(C)"
   ]
  },
  {
   "cell_type": "code",
   "execution_count": null,
   "metadata": {
    "vscode": {
     "languageId": "python"
    }
   },
   "outputs": [],
   "source": [
    "# Point towards set initial object position\n",
    "lookAtObj(bot, C, np.array(INITIAL_OBJ_POS))\n",
    "\n",
    "# Capture midpoint from point cloud\n",
    "obj_pos  = getObject(bot, C, arena) \n",
    "\n",
    "scanned_views_ = scanObject(bot, C, np.array(obj_pos), arena, view_count=8)\n",
    "scanned_views = []\n",
    "for sv in scanned_views_:\n",
    "    point_cloud_obj = o3d.geometry.PointCloud()\n",
    "    point_cloud_obj.points = o3d.utility.Vector3dVector(sv)\n",
    "    scanned_views.append(point_cloud_obj)"
   ]
  },
  {
   "cell_type": "code",
   "execution_count": null,
   "metadata": {
    "vscode": {
     "languageId": "python"
    }
   },
   "outputs": [],
   "source": [
    "final_points = piece_pci(scanned_views)"
   ]
  },
  {
   "cell_type": "code",
   "execution_count": null,
   "metadata": {
    "vscode": {
     "languageId": "python"
    }
   },
   "outputs": [],
   "source": [
    "pclFrame = C.getFrame(\"pcl\")\n",
    "pclFrame.setPointCloud(np.asarray(final_points.points))\n",
    "C.view_recopyMeshes()"
   ]
  },
  {
   "cell_type": "code",
   "execution_count": null,
   "metadata": {
    "vscode": {
     "languageId": "python"
    }
   },
   "outputs": [],
   "source": [
    "point_indices = findPossibleGrasps(final_points, verbose=2)"
   ]
  },
  {
   "cell_type": "code",
   "execution_count": null,
   "metadata": {
    "vscode": {
     "languageId": "python"
    }
   },
   "outputs": [],
   "source": [
    "random_grasp_indices = random.choice(point_indices)\n",
    "gripping_pos = (final_points.points[random_grasp_indices[0]] + final_points.points[random_grasp_indices[1]]) * .5\n",
    "gripping_angle = final_points.points[random_grasp_indices[0]] + final_points.points[random_grasp_indices[1]]\n",
    "gripping_angle /= np.linalg.norm(gripping_angle)"
   ]
  },
  {
   "cell_type": "code",
   "execution_count": null,
   "metadata": {
    "vscode": {
     "languageId": "python"
    }
   },
   "outputs": [],
   "source": [
    "bot.gripperOpen(ry._left)\n",
    "while not bot.gripperDone(ry._left):\n",
    "    bot.sync(C, .1)\n",
    "\n",
    "bot.sync(C)\n",
    "\n",
    "komo = ry.KOMO()\n",
    "komo.setConfig(C, True)\n",
    "komo.setTiming(1., 1, 1., 0)\n",
    "\n",
    "komo.addObjective([], ry.FS.accumulatedCollisions, [], ry.OT.eq)\n",
    "komo.addObjective([], ry.FS.jointLimits, [], ry.OT.ineq)\n",
    "\n",
    "komo.addObjective([1.], ry.FS.positionDiff, ['l_gripper'], ry.OT.eq, [1e1], gripping_pos)\n",
    "komo.addObjective([1.], ry.FS.vectorX, [\"l_gripper\"], ry.OT.eq, [1e1], gripping_angle)\n",
    "komo.addObjective([1.], ry.FS.vectorZ, [\"l_gripper\"], ry.OT.eq, [1e1], [0., 0., -1.])\n",
    "\n",
    "ret = ry.NLP_Solver().setProblem(komo.nlp()).setOptions(stopTolerance=1e-2, verbose=0).solve()\n",
    "print(ret)\n",
    "bot.move(komo.getPath(), [3.])\n",
    "while bot.getTimeToEnd() > 0:\n",
    "    bot.sync(C, .1)\n",
    "\n",
    "bot.gripperClose(ry._left)\n",
    "while not bot.gripperDone(ry._left):\n",
    "    bot.sync(C, .1)\n",
    "\n",
    "bot.home(C)\n",
    "while bot.getTimeToEnd() > 0:\n",
    "    bot.sync(C, .1)\n",
    "\n",
    "bot.gripperOpen(ry._left)\n",
    "while not bot.gripperDone(ry._left):\n",
    "    bot.sync(C, .1)"
   ]
  },
  {
   "cell_type": "code",
   "execution_count": null,
   "metadata": {
    "vscode": {
     "languageId": "python"
    }
   },
   "outputs": [],
   "source": [
    "bot.home(C)\n",
    "C.view(True)"
   ]
  }
 ],
 "metadata": {
  "kernelspec": {
   "display_name": "Python 3",
   "language": "python3.7",
   "name": "python3"
  },
  "language_info": {
   "codemirror_mode": {
    "name": "ipython",
    "version": 3
   },
   "file_extension": ".py",
   "mimetype": "text/x-python",
   "name": "python3.7",
   "nbconvert_exporter": "python",
   "pygments_lexer": "ipython3",
   "version": "3.8.10"
  },
  "orig_nbformat": 4
 },
 "nbformat": 4,
 "nbformat_minor": 2
}
