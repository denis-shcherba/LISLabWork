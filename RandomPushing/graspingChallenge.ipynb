{
 "cells": [
  {
   "cell_type": "code",
   "execution_count": 11,
   "metadata": {},
   "outputs": [],
   "source": [
    "import robotic as ry\n",
    "import numpy as np\n",
    "from visual import getObject, lookAtObj, scanObject\n",
    "from arena import *\n",
    "import open3d as o3d\n",
    "import random\n",
    "import copy\n",
    "\n",
    "INITIAL_OBJ_POS = [-.5, 0, .69]\n",
    "ON_REAL = False\n",
    "ARENA_POS = np.array([-.54, -.17, .651])\n",
    "\n",
    "GRIPPER_FINGER_SEPARATION = .075\n",
    "GRIPPER_FINGER_WIDTH = .025\n",
    "\n",
    "def validSideDistance(p1, p2, n):\n",
    "    dist = np.linalg.norm(p2-p1)\n",
    "    normal_dist = abs(np.dot(p1 - p2, n) / np.linalg.norm(n))\n",
    "    side_dist = np.sqrt(dist*dist-normal_dist*normal_dist)\n",
    "    return side_dist <= GRIPPER_FINGER_WIDTH*.5\n",
    "\n",
    "def validNormalDistance(p1, p2, n, dist_thresh=GRIPPER_FINGER_SEPARATION):\n",
    "    return (abs(np.dot(p1 - p2, n) / np.linalg.norm(n)) <= dist_thresh\n",
    "            and abs(np.dot(p1 - p2, n) / np.linalg.norm(n)) >= GRIPPER_FINGER_WIDTH)\n",
    "\n",
    "def validNormalRelativeDir(p1, p2, n):\n",
    "    p2pvec = p2-p1\n",
    "    dot_product = np.dot(n, p2pvec)\n",
    "    # Normal vector has magnitude one so we ignore it\n",
    "    magnitude_vector = np.linalg.norm(p2pvec)\n",
    "    cosine_angle = dot_product / magnitude_vector\n",
    "    return cosine_angle <= 0\n",
    "\n",
    "def validNormalDir(n1, n2):\n",
    "    upvec = np.array([0., 0., 1.])\n",
    "    dot_product1 = np.dot(n1, upvec)\n",
    "    dot_product2 = np.dot(n2, upvec)\n",
    "    return dot_product1 >= 0 and dot_product2 >= 0\n",
    "\n",
    "def ICP_matrix(source, target, iterations=10, threshold=.02, trans_init=np.identity(4)):\n",
    "    source_copy = copy.deepcopy(source)\n",
    "\n",
    "    cumulative_transformation = np.identity(4)\n",
    "\n",
    "    for _ in range(iterations):\n",
    "        source_filtered, _ = source_copy.remove_statistical_outlier(nb_neighbors=20, std_ratio=2.0)\n",
    "        target_filtered, _ = target.remove_statistical_outlier(nb_neighbors=20, std_ratio=2.0)\n",
    "        source_downsampled = source_filtered.voxel_down_sample(voxel_size=0.001)\n",
    "        target_downsampled = target_filtered.voxel_down_sample(voxel_size=0.001)\n",
    "\n",
    "        reg_p2p = o3d.pipelines.registration.registration_icp(\n",
    "            source_downsampled, target_downsampled, threshold, trans_init,\n",
    "            o3d.pipelines.registration.TransformationEstimationPointToPoint())\n",
    "        cumulative_transformation = np.dot(reg_p2p.transformation, cumulative_transformation)\n",
    "        source_copy.transform(reg_p2p.transformation)\n",
    "\n",
    "    return cumulative_transformation\n",
    "\n",
    "def mstorePCR(point_clouds, smoothing=False, verbose=0):\n",
    "    result = point_clouds[0]\n",
    "    \n",
    "    for i in range(len(point_clouds)-1):\n",
    "        source, target = point_clouds[i+1], point_clouds[i]\n",
    "        m = ICP_matrix(source, target)\n",
    "\n",
    "        source.transform(m)\n",
    "        result += source\n",
    "\n",
    "        if smoothing:\n",
    "            result, _ = result.remove_statistical_outlier(nb_neighbors=20, std_ratio=2.0)\n",
    "            result = result.voxel_down_sample(voxel_size=0.001)\n",
    "\n",
    "    if verbose:\n",
    "        o3d.visualization.draw_geometries([result])\n",
    "    return result"
   ]
  },
  {
   "cell_type": "code",
   "execution_count": 12,
   "metadata": {},
   "outputs": [
    {
     "name": "stdout",
     "output_type": "stream",
     "text": [
      "-- module.cpp:operator():95(0) python,\n",
      "RealSense/resolution: 640,\n",
      "RealSense/alignToDepth!,\n",
      "physx/motorKp: 10000,\n",
      "physx/motorKd: 1000,\n",
      "physx/multiBody!,\n",
      "bot/useGripper,\n",
      "bot/useRobotiq!,\n",
      "bot/useArm: left,\n",
      "bot/blockRealRobot!,\n",
      "botsim/hyperSpeed: 1,\n",
      "botsim/verbose: 1,\n",
      "botsim/engine: physx,\n",
      "physx/verbose: 1,\n",
      "physx/yGravity!,\n",
      "physx/softBody!,\n",
      "physx/multiBodyDisableGravity,\n",
      "physx/jointedBodies!,\n",
      "physx/angularDamping: 0.1,\n",
      "physx/defaultFriction: 1,\n",
      "physx/defaultRestitution: 0.1,\n",
      "bot/useOptitrack!,\n",
      "bot/useAudio!,\n",
      "KOMO/verbose: 1,\n",
      "KOMO/animateOptimization: 0,\n",
      "KOMO/mimicStable,\n",
      "KOMO/useFCL,\n",
      "KOMO/unscaleEqIneqReport!,\n",
      "KOMO/sampleRate_stable: 0,\n",
      "opt/verbose: 1,\n",
      "opt/stopTolerance: 0.01,\n",
      "opt/stopFTolerance: -1,\n",
      "opt/stopGTolerance: -1,\n",
      "opt/stopEvals: 1000,\n",
      "opt/stopIters: 1000,\n",
      "opt/stopOuters: 1000,\n",
      "opt/stopLineSteps: 10,\n",
      "opt/stopTinySteps: 10,\n",
      "opt/initStep: 1,\n",
      "opt/minStep: -1,\n",
      "opt/maxStep: 0.2,\n",
      "opt/damping: 1,\n",
      "opt/stepInc: 1.5,\n",
      "opt/stepDec: 0.5,\n",
      "opt/wolfe: 0.01,\n",
      "opt/boundedNewton,\n",
      "opt/muInit: 1,\n",
      "opt/muInc: 5,\n",
      "opt/muMax: 10000,\n",
      "opt/muLBInit: 0.1,\n",
      "opt/muLBDec: 0.2,\n",
      "opt/maxLambda: -1,\n",
      "opt/constrainedMethod: ,\n",
      "seed: 0,\n",
      "bot/raiseWindow!\n"
     ]
    }
   ],
   "source": [
    "#-- load parameters, typically automatically from 'rai.cfg'\n",
    "ry.params_print()\n",
    "verbose = 0\n",
    "\n",
    "#-- define a configuration\n",
    "C = ry.Config()\n",
    "C.addFile(ry.raiPath('scenarios/pandaSingle.g'))\n",
    "\n",
    "obj = C.addFrame('obj')\n",
    "obj.setShape(ry.ST.ssBox, size=[.05, .09, .1, .005])\n",
    "obj.setPosition(INITIAL_OBJ_POS)\n",
    "obj.setColor([1, .5, .5])\n",
    "obj.setMass(.1)\n",
    "obj.setContact(True)\n",
    "\n",
    "C.addFrame('predicted_obj') \\\n",
    "    .setShape(ry.ST.marker, size=[.1]) \\\n",
    "    .setPosition(INITIAL_OBJ_POS) \\\n",
    "    .setColor([1, 0, 0])\n",
    "\n",
    "for i in range(32):\n",
    "    C.addFrame(f'view_point_{i}') \\\n",
    "        .setPosition([0, 0, 0]) \\\n",
    "        .setShape(ry.ST.sphere, size=[.02]) \\\n",
    "        .setColor([1, 1, 0])\n",
    "\n",
    "bot = ry.BotOp(C, ON_REAL)\n",
    "\n",
    "obj_pos = INITIAL_OBJ_POS\n",
    "\n",
    "# Generate Arena\n",
    "arena = CircularArena(middleP=ARENA_POS, innerR=None, outerR=.3)\n",
    "arena.plotArena(C)"
   ]
  },
  {
   "cell_type": "code",
   "execution_count": 13,
   "metadata": {},
   "outputs": [
    {
     "name": "stdout",
     "output_type": "stream",
     "text": [
      "{ time: 0.002, evals: 9, done: 1, feasible: 1, sos: 0.0102726, f: 0, ineq: 0, eq: 0.0112763 }\n",
      "-- WARNING:kin.cpp:getFrame:393(-1) cannot find frame named 'pcl'\n",
      "{ time: 0.005571, evals: 19, done: 1, feasible: 1, sos: 0, f: 0, ineq: 0, eq: 0.00303904 }\n",
      "{ time: 0.001321, evals: 12, done: 1, feasible: 1, sos: 0, f: 0, ineq: 0, eq: 0.00422288 }\n",
      "{ time: 0.001842, evals: 12, done: 1, feasible: 1, sos: 0, f: 0, ineq: 0, eq: 0.00388187 }\n",
      "{ time: 0.018514, evals: 72, done: 1, feasible: 1, sos: 0, f: 0, ineq: 0, eq: 0.072641 }\n",
      "{ time: 0.003715, evals: 11, done: 1, feasible: 1, sos: 0, f: 0, ineq: 0, eq: 0.00361921 }\n",
      "{ time: 0.00183, evals: 20, done: 1, feasible: 1, sos: 0, f: 0, ineq: 0, eq: 0.00308296 }\n",
      "{ time: 0.043111, evals: 372, done: 1, feasible: 0, sos: 0, f: 0, ineq: 0, eq: 0.82426 }\n",
      "{ time: 0.013538, evals: 57, done: 1, feasible: 0, sos: 0, f: 0, ineq: 0, eq: 0.821359 }\n"
     ]
    }
   ],
   "source": [
    "# Point towards set initial object position\n",
    "lookAtObj(bot, C, np.array(INITIAL_OBJ_POS))\n",
    "\n",
    "# Capture midpoint from point cloud\n",
    "obj_pos  = getObject(bot, C, arena) \n",
    "\n",
    "scanned_views_ = scanObject(bot, C, np.array(obj_pos), arena, view_count=8)\n",
    "scanned_views = []\n",
    "for sv in scanned_views_:\n",
    "    point_cloud_obj = o3d.geometry.PointCloud()\n",
    "    point_cloud_obj.points = o3d.utility.Vector3dVector(sv)\n",
    "    scanned_views.append(point_cloud_obj)"
   ]
  },
  {
   "cell_type": "code",
   "execution_count": 14,
   "metadata": {},
   "outputs": [
    {
     "name": "stdout",
     "output_type": "stream",
     "text": [
      "Starting loop...\n",
      "Ending loop...\n",
      "Starting loop...\n",
      "Ending loop...\n"
     ]
    }
   ],
   "source": [
    "final_points = mstorePCR(scanned_views)"
   ]
  },
  {
   "cell_type": "code",
   "execution_count": 15,
   "metadata": {},
   "outputs": [],
   "source": [
    "pclFrame = C.getFrame(\"pcl\")\n",
    "pclFrame.setPointCloud(np.asarray(final_points.points))\n",
    "C.view_recopyMeshes()"
   ]
  },
  {
   "cell_type": "code",
   "execution_count": 16,
   "metadata": {},
   "outputs": [
    {
     "name": "stdout",
     "output_type": "stream",
     "text": [
      "Matching atimodal points: 100/2149 (4.65%) Done\n",
      "Matching atimodal points: 200/2149 (9.31%) Done\n",
      "Matching atimodal points: 300/2149 (13.96%) Done\n",
      "Matching atimodal points: 400/2149 (18.61%) Done\n",
      "Matching atimodal points: 500/2149 (23.27%) Done\n",
      "Matching atimodal points: 600/2149 (27.92%) Done\n",
      "Matching atimodal points: 700/2149 (32.57%) Done\n",
      "Matching atimodal points: 800/2149 (37.23%) Done\n",
      "Matching atimodal points: 900/2149 (41.88%) Done\n",
      "Matching atimodal points: 1000/2149 (46.53%) Done\n",
      "Matching atimodal points: 1100/2149 (51.19%) Done\n",
      "Matching atimodal points: 1200/2149 (55.84%) Done\n",
      "Matching atimodal points: 1300/2149 (60.49%) Done\n",
      "Matching atimodal points: 1400/2149 (65.15%) Done\n",
      "Matching atimodal points: 1500/2149 (69.80%) Done\n",
      "Matching atimodal points: 1600/2149 (74.45%) Done\n",
      "Matching atimodal points: 1700/2149 (79.11%) Done\n",
      "Matching atimodal points: 1800/2149 (83.76%) Done\n",
      "Matching atimodal points: 1900/2149 (88.41%) Done\n",
      "Matching atimodal points: 2000/2149 (93.07%) Done\n",
      "Matching atimodal points: 2100/2149 (97.72%) Done\n",
      "Antipodal pairs found: [(6, 590), (6, 2115), (15, 397), (60, 1186), (74, 1391), (77, 2115), (79, 2115), (87, 616), (87, 1821), (105, 1186), (114, 2115), (120, 546), (120, 590), (180, 2115), (201, 590), (201, 2115), (245, 2115), (264, 1186), (267, 661), (278, 546), (278, 590), (312, 333), (312, 1303), (327, 573), (327, 1545), (327, 1606), (363, 399), (363, 573), (363, 610), (363, 661), (363, 730), (363, 851), (363, 984), (363, 1141), (363, 1246), (363, 1678), (363, 1725), (363, 1774), (386, 590), (386, 2115), (393, 546), (393, 590), (426, 590), (436, 590), (436, 2115), (438, 1186), (444, 546), (444, 590), (480, 1186), (491, 573), (491, 610), (491, 730), (491, 1545), (491, 1606), (494, 600), (494, 1429), (499, 2115), (507, 590), (509, 553), (509, 933), (562, 933), (565, 590), (572, 590), (609, 2115), (632, 730), (632, 851), (632, 918), (632, 933), (632, 2110), (638, 2115), (644, 2115), (667, 1545), (727, 2115), (735, 1141), (735, 1545), (735, 1606), (769, 2115), (788, 1186), (799, 2115), (809, 2115), (858, 1403), (858, 1455), (858, 1523), (858, 1534), (858, 1725), (858, 1861), (858, 1882), (858, 1937), (885, 903), (885, 918), (885, 984), (885, 1141), (885, 1246), (885, 1606), (885, 2110), (885, 2139), (895, 903), (895, 933), (895, 1009), (895, 2139), (905, 1186), (921, 2115), (935, 1545), (935, 1606), (940, 1545), (945, 1391), (955, 2115), (972, 2115), (1007, 1246), (1007, 1606), (1008, 1009), (1008, 2110), (1008, 2139), (1019, 1429), (1038, 1186), (1043, 2115), (1044, 1141), (1044, 1545), (1044, 1606), (1044, 2110), (1059, 2115), (1099, 2115), (1110, 2115), (1142, 2115), (1146, 2115), (1147, 1203), (1156, 1186), (1179, 2115), (1202, 2115), (1206, 2115), (1211, 2115), (1238, 2115), (1245, 2115), (1272, 2115), (1280, 1827), (1290, 2115), (1292, 2115), (1320, 1678), (1347, 2115), (1368, 2110), (1393, 2115), (1400, 2110), (1400, 2139), (1437, 2115), (1438, 2115), (1459, 2115), (1468, 2115), (1477, 1606), (1477, 2110), (1477, 2139), (1528, 2115), (1561, 2115), (1592, 2115), (1593, 1678), (1593, 1725), (1593, 1774), (1593, 1882), (1598, 1606), (1605, 2115), (1626, 2115), (1643, 2110), (1682, 1725), (1682, 1774), (1682, 1882), (1682, 1930), (1682, 2110), (1706, 2115), (1715, 2115), (1724, 2115), (1764, 2115), (1835, 2115), (1852, 2115), (1858, 1861), (1858, 1882), (1865, 2115), (1868, 2115), (1887, 1930), (1887, 2110), (1897, 2115), (1899, 2110), (1899, 2139), (1903, 2115), (1950, 2115), (1999, 2115), (2002, 2115), (2009, 2115), (2020, 2115), (2054, 2115)]\n"
     ]
    }
   ],
   "source": [
    "def findPossibleGrasps(point_cloud, voxel_size=.005, verbose=3):\n",
    "\n",
    "    # Prepare point cloud\n",
    "    pcd = o3d.geometry.PointCloud()\n",
    "    pcd.points = o3d.utility.Vector3dVector(point_cloud)\n",
    "    if voxel_size: pcd = pcd.voxel_down_sample(voxel_size=voxel_size)\n",
    "    pcd.estimate_normals(\n",
    "        search_param=o3d.geometry.KDTreeSearchParamHybrid(radius=0.1, max_nn=30))\n",
    "    if verbose > 2:\n",
    "        o3d.visualization.draw_geometries([pcd], point_show_normal=True)\n",
    "    \n",
    "    # Find antipodal pairs\n",
    "    antipodal_pairs = []\n",
    "    for i in range(len(pcd.points)):\n",
    "        normal_i = np.asarray(pcd.normals[i])\n",
    "        for j in range(i + 1, len(pcd.points)):\n",
    "            normal_j = np.asarray(pcd.normals[j])\n",
    "            dot_product = np.dot(normal_i, normal_j)\n",
    "            if (dot_product < -0.7 and\n",
    "                validSideDistance(pcd.points[i], pcd.points[j], pcd.normals[i]) and\n",
    "                validNormalDistance(pcd.points[i], pcd.points[j], pcd.normals[i]) and\n",
    "                validNormalRelativeDir(pcd.points[i], pcd.points[j], pcd.normals[i])\n",
    "                and validNormalDir(pcd.points[j], pcd.normals[i])\n",
    "                ):\n",
    "                    antipodal_pairs.append((i, j))\n",
    "        if verbose > 2 and (i+1)%100 == 0:\n",
    "            print(f\"Matching atimodal points: {i+1}/{len(pcd.points)} ({((i+1)*100/len(pcd.points)):.2f}%) Done\")\n",
    "\n",
    "    if verbose:\n",
    "        print(\"Antipodal pairs found:\", antipodal_pairs)\n",
    "\n",
    "        if verbose > 1:\n",
    "            # Create a line set to visualize antipodal pairs\n",
    "            line_set = o3d.geometry.LineSet()\n",
    "\n",
    "            # Populate line_set with antipodal pairs\n",
    "            lines = []\n",
    "            for pair in antipodal_pairs:\n",
    "                lines.append([pair[0], pair[1]])\n",
    "            lines = np.array(lines).astype(np.int32)\n",
    "            line_set.points = o3d.utility.Vector3dVector(np.asarray(pcd.points))\n",
    "            line_set.lines = o3d.utility.Vector2iVector(lines)\n",
    "\n",
    "            # Set color of the lines to red\n",
    "            line_colors = np.array([[1, 0, 0] for _ in range(len(lines))])\n",
    "            line_set.colors = o3d.utility.Vector3dVector(line_colors)\n",
    "\n",
    "            # Visualize the point cloud and antipodal pairs\n",
    "            o3d.visualization.draw_geometries([pcd, line_set], point_show_normal=True)\n",
    "\n",
    "    return antipodal_pairs\n",
    "\n",
    "point_indices = findPossibleGrasps(np.asarray(final_points.points), voxel_size=.005, verbose=3)"
   ]
  },
  {
   "cell_type": "code",
   "execution_count": 17,
   "metadata": {},
   "outputs": [],
   "source": [
    "random_grasp_indices = random.choice(point_indices)\n",
    "gripping_pos = (final_points.points[random_grasp_indices[0]] + final_points.points[random_grasp_indices[1]]) * .5\n",
    "gripping_angle = final_points.points[random_grasp_indices[0]] + final_points.points[random_grasp_indices[1]]\n",
    "gripping_angle /= np.linalg.norm(gripping_angle)"
   ]
  },
  {
   "cell_type": "code",
   "execution_count": 18,
   "metadata": {},
   "outputs": [
    {
     "name": "stdout",
     "output_type": "stream",
     "text": [
      "{ time: 0.00465, evals: 19, done: 1, feasible: 1, sos: 0, f: 0, ineq: 0, eq: 0.122147 }\n"
     ]
    }
   ],
   "source": [
    "bot.home(C)\n",
    "while bot.getTimeToEnd() > 0:\n",
    "    bot.sync(C, .1)\n",
    "    \n",
    "bot.gripperMove(ry._left)\n",
    "while not bot.gripperDone(ry._left):\n",
    "    bot.sync(C, .1)\n",
    "\n",
    "bot.sync(C)\n",
    "\n",
    "komo = ry.KOMO()\n",
    "komo.setConfig(C, True)\n",
    "komo.setTiming(1., 1, 1., 0)\n",
    "\n",
    "komo.addObjective([], ry.FS.accumulatedCollisions, [], ry.OT.eq)\n",
    "komo.addObjective([], ry.FS.jointLimits, [], ry.OT.ineq)\n",
    "\n",
    "komo.addObjective([1.], ry.FS.position, ['l_gripper'], ry.OT.eq, [1e1], gripping_pos)\n",
    "komo.addObjective([1.], ry.FS.vectorX, [\"l_gripper\"], ry.OT.eq, [1e1], gripping_angle)\n",
    "\n",
    "ret = ry.NLP_Solver().setProblem(komo.nlp()).setOptions(stopTolerance=1e-2, verbose=0).solve()\n",
    "print(ret)\n",
    "bot.move(komo.getPath(), [3.])\n",
    "while bot.getTimeToEnd() > 0:\n",
    "    bot.sync(C, .1)\n",
    "\n",
    "bot.gripperClose(ry._left)\n",
    "while not bot.gripperDone(ry._left):\n",
    "    bot.sync(C, .1)\n",
    "\n",
    "bot.home(C)\n",
    "while bot.getTimeToEnd() > 0:\n",
    "    bot.sync(C, .1)\n",
    "\n",
    "bot.gripperMove(ry._left)\n",
    "while not bot.gripperDone(ry._left):\n",
    "    bot.sync(C, .1)"
   ]
  },
  {
   "cell_type": "code",
   "execution_count": 19,
   "metadata": {},
   "outputs": [
    {
     "data": {
      "text/plain": [
       "0"
      ]
     },
     "execution_count": 19,
     "metadata": {},
     "output_type": "execute_result"
    }
   ],
   "source": [
    "bot.home(C)\n",
    "C.view(True)"
   ]
  },
  {
   "cell_type": "code",
   "execution_count": 20,
   "metadata": {},
   "outputs": [
    {
     "name": "stdout",
     "output_type": "stream",
     "text": [
      "-- bot.cpp:~BotOp:118(0) shutting down BotOp...\n",
      "-- simulation.cpp:~BotThreadedSim:56(0) shutting down SimThread\n",
      "-- simulation.cpp:~Simulation:148(0) shutting down Simulation\n"
     ]
    }
   ],
   "source": [
    "del bot\n",
    "del C"
   ]
  }
 ],
 "metadata": {
  "kernelspec": {
   "display_name": "Python 3",
   "language": "python3.7",
   "name": "python3"
  },
  "language_info": {
   "codemirror_mode": {
    "name": "ipython",
    "version": 3
   },
   "file_extension": ".py",
   "mimetype": "text/x-python",
   "name": "python",
   "nbconvert_exporter": "python",
   "pygments_lexer": "ipython3",
   "version": "3.8.10"
  },
  "orig_nbformat": 4
 },
 "nbformat": 4,
 "nbformat_minor": 2
}
