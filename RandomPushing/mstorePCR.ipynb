{
 "cells": [
  {
   "cell_type": "code",
   "execution_count": 26,
   "metadata": {},
   "outputs": [],
   "source": [
    "import open3d as o3d\n",
    "import numpy as np\n",
    "import copy\n",
    "\n",
    "view_count = 16\n",
    "\n",
    "def ICP_matrix(source, target, iterations=10, threshold=.02, trans_init=np.identity(4)):\n",
    "    source_copy = copy.deepcopy(source)\n",
    "\n",
    "    cumulative_transformation = np.identity(4)\n",
    "\n",
    "    for _ in range(iterations):\n",
    "        source_filtered, _ = source_copy.remove_statistical_outlier(nb_neighbors=20, std_ratio=2.0)\n",
    "        target_filtered, _ = target.remove_statistical_outlier(nb_neighbors=20, std_ratio=2.0)\n",
    "        source_downsampled = source_filtered.voxel_down_sample(voxel_size=0.001)\n",
    "        target_downsampled = target_filtered.voxel_down_sample(voxel_size=0.001)\n",
    "\n",
    "        reg_p2p = o3d.pipelines.registration.registration_icp(\n",
    "            source_downsampled, target_downsampled, threshold, trans_init,\n",
    "            o3d.pipelines.registration.TransformationEstimationPointToPoint())\n",
    "        cumulative_transformation = np.dot(reg_p2p.transformation, cumulative_transformation)\n",
    "        source_copy.transform(reg_p2p.transformation)\n",
    "\n",
    "    return cumulative_transformation\n",
    "\n",
    "def mstorePCR(point_clouds, smoothing=False, verbose=0):\n",
    "    result = point_clouds[0]\n",
    "    \n",
    "    for i in range(len(point_clouds)-1):\n",
    "        source, target = point_clouds[i+1], point_clouds[i]\n",
    "        m = ICP_matrix(source, target)\n",
    "\n",
    "        source.transform(m)\n",
    "        result += source\n",
    "\n",
    "        if smoothing:\n",
    "            result, _ = result.remove_statistical_outlier(nb_neighbors=20, std_ratio=2.0)\n",
    "            result = result.voxel_down_sample(voxel_size=0.001)\n",
    "\n",
    "    if verbose:\n",
    "        o3d.visualization.draw_geometries([result])\n",
    "    return result"
   ]
  },
  {
   "cell_type": "code",
   "execution_count": 27,
   "metadata": {},
   "outputs": [],
   "source": [
    "from visual import standardICP, piece_pci\n",
    "\n",
    "def piece_pci_overlap(pcs):\n",
    "    while len(pcs) > 1:\n",
    "        print(\"Starting loop...\")\n",
    "        # Piece Creation\n",
    "        new_pcs = []\n",
    "        for i in range(0, len(pcs), 3):\n",
    "            new_pcs.append(standardICP(pcs[i] + pcs[i-1], pcs[i-1] + pcs[i-2]))\n",
    "            if i <= len(pcs) - 3:\n",
    "                new_pcs.append(standardICP(pcs[i] + pcs[i+1], pcs[i+1] + pcs[i+2]))\n",
    "            elif i > len(pcs) - 3:\n",
    "                new_pcs.append(standardICP(pcs[i],  pcs[i+1]))\n",
    "\n",
    "        pcs = new_pcs\n",
    "\n",
    "        # Piece Joining\n",
    "        new_pcs = []\n",
    "        for i in range(0, len(pcs), 2):\n",
    "            new_pcs.append(standardICP(pcs[i] , pcs[i+1]))\n",
    "\n",
    "        pcs = new_pcs\n",
    "        print(\"Ending loop...\")\n",
    "    return pcs[0]"
   ]
  },
  {
   "cell_type": "code",
   "execution_count": 28,
   "metadata": {},
   "outputs": [],
   "source": [
    "import robotic as ry\n",
    "import json\n",
    "\n",
    "point_cloud_name = \"blocks\"\n",
    "pcs = [o3d.io.read_point_cloud(f\"./data/pcs/{point_cloud_name}/point_cloud_{i}.pcd\") for i in range(view_count)]\n",
    "result = mstorePCR(pcs, verbose=0)\n",
    "#result_old = piece_pci(pcs)"
   ]
  },
  {
   "cell_type": "code",
   "execution_count": 29,
   "metadata": {},
   "outputs": [
    {
     "name": "stdout",
     "output_type": "stream",
     "text": [
      "-- module.cpp:operator():95(0) python,\n",
      "RealSense/resolution: 640,\n",
      "RealSense/alignToDepth!,\n",
      "physx/motorKp: 10000,\n",
      "physx/motorKd: 1000,\n",
      "physx/multiBody!\n"
     ]
    },
    {
     "data": {
      "text/plain": [
       "0"
      ]
     },
     "execution_count": 29,
     "metadata": {},
     "output_type": "execute_result"
    }
   ],
   "source": [
    "ry.params_print()\n",
    "verbose = 0\n",
    "\n",
    "C = ry.Config()\n",
    "\n",
    "for i in range(view_count):\n",
    "    v = json.load(open(f\"./data/pcs/{point_cloud_name}/point_cloud_{i}.json\"))\n",
    "    pclFrame = C.addFrame(f'pcl{i}')\n",
    "    pclFrame.setPointCloud(np.array(v))\n",
    "    pclFrame.setColor([0.,1.,0.])\n",
    "    pclFrame.setPosition([0,.30,0])\n",
    "    C.view_recopyMeshes()\n",
    "\n",
    "final_points = np.asarray(result.points)\n",
    "pclFrame = C.addFrame('pcl')\n",
    "pclFrame.setPointCloud(np.array(final_points))\n",
    "pclFrame.setColor([0.,0.,1.])\n",
    "C.view_recopyMeshes()\n",
    "\n",
    "#final_points_old = np.asarray(result_old.points)\n",
    "#pclFrame = C.addFrame('pcl_old')\n",
    "#pclFrame.setPointCloud(result_old)\n",
    "#pclFrame.setColor([0.,0.,1.])\n",
    "#pclFrame.setPosition([0,-.30,0])\n",
    "#C.view_recopyMeshes()\n",
    "\n",
    "C.view(True)"
   ]
  }
 ],
 "metadata": {
  "kernelspec": {
   "display_name": "Python 3",
   "language": "python3.7",
   "name": "python3"
  },
  "language_info": {
   "codemirror_mode": {
    "name": "ipython",
    "version": 3
   },
   "file_extension": ".py",
   "mimetype": "text/x-python",
   "name": "python",
   "nbconvert_exporter": "python",
   "pygments_lexer": "ipython3",
   "version": "3.8.10"
  },
  "orig_nbformat": 4
 },
 "nbformat": 4,
 "nbformat_minor": 2
}
