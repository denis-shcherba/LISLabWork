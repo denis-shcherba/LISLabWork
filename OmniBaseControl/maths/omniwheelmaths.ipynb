{
 "cells": [
  {
   "cell_type": "code",
   "execution_count": 4,
   "id": "59bd8dd7-da5b-4d89-aade-93b248eacf3a",
   "metadata": {},
   "outputs": [],
   "source": [
    "import numpy as np\n",
    "import sympy as sp"
   ]
  },
  {
   "cell_type": "code",
   "execution_count": 9,
   "id": "f965ca73-13e1-4c81-8846-811804e29c97",
   "metadata": {},
   "outputs": [],
   "source": [
    "invMatrix = np.matrix([[-1/3, 1/np.sqrt(3), 1/3], [-1/3, -1/np.sqrt(3), 1/3], [2/3, 0, 1/3]])\n",
    "forMatrix = np.linalg.inv(invMatrix)\n",
    "\n",
    "def calculate_relative_pose_change(v_x, v_y, omega, dt):\n",
    "    # Check if angular velocity is very small to avoid division by zero\n",
    "    if np.abs(omega) < 1e-5:\n",
    "        # Straight line motion (linear velocities only)\n",
    "        dx = v_x * dt\n",
    "        dy = v_y * dt\n",
    "        dtheta = 0.0\n",
    "    else:\n",
    "        # Circular arc motion (combining linear and angular velocities)\n",
    "        R = np.sqrt(v_x**2 + v_y**2) / omega  # Radius of the circular path\n",
    "        dtheta = omega * dt  # Change in orientation\n",
    "        dx = R * (np.sin(dtheta))  # Change in x\n",
    "        dy = R * (1 - np.cos(dtheta))  # Change in y\n",
    "\n",
    "    return dx, dy, dtheta\n",
    "\n",
    "def veloToWheel(vx, vy, omega):\n",
    "    a = np.array([vx, vy, omega])\n",
    "\n",
    "    return invMatrix@a\n",
    "\n",
    "\n",
    "def calculate_relative_velocities(dx, dy, dphi, dt):\n",
    "    # Calculate linear velocities vx and vy\n",
    "    v_x = dx / dt\n",
    "    v_y = dy / dt\n",
    "\n",
    "    # Check if the change in angle is very small to avoid division by zero\n",
    "    if np.abs(dphi) < 1e-5:\n",
    "        omega = 0.0\n",
    "    else:\n",
    "        # Calculate angular velocity omega\n",
    "        omega = dphi / dt\n",
    "\n",
    "    return v_x, v_y, omega"
   ]
  },
  {
   "cell_type": "code",
   "execution_count": 10,
   "id": "861cf875-3bfd-4c03-8566-96754a93f554",
   "metadata": {},
   "outputs": [
    {
     "data": {
      "text/plain": [
       "(-0.6160404591886564, 0.2122854878557654, 125)"
      ]
     },
     "execution_count": 10,
     "metadata": {},
     "output_type": "execute_result"
    }
   ],
   "source": [
    "calculate_relative_pose_change(15,20,25,5)"
   ]
  },
  {
   "cell_type": "code",
   "execution_count": 13,
   "id": "7423bd92-9124-4a50-bc7c-fc973d091b9b",
   "metadata": {},
   "outputs": [
    {
     "data": {
      "text/plain": [
       "(-0.12, 0.04, 25.0)"
      ]
     },
     "execution_count": 13,
     "metadata": {},
     "output_type": "execute_result"
    }
   ],
   "source": [
    "calculate_relative_velocities(-0.6, .2, 125, 5)"
   ]
  },
  {
   "cell_type": "code",
   "execution_count": 13,
   "id": "de0ee8ff-956d-40e2-916c-abc404047615",
   "metadata": {},
   "outputs": [],
   "source": [
    "velocVector = np.array([15,20,25])"
   ]
  },
  {
   "cell_type": "code",
   "execution_count": 17,
   "id": "a1d4a420-2bb3-47f5-806a-932ece081448",
   "metadata": {},
   "outputs": [
    {
     "data": {
      "text/plain": [
       "matrix([[14.88033872, -8.21367205, 18.33333333]])"
      ]
     },
     "execution_count": 17,
     "metadata": {},
     "output_type": "execute_result"
    }
   ],
   "source": [
    "invMatrix@velocVector"
   ]
  },
  {
   "cell_type": "code",
   "execution_count": null,
   "id": "baf50871-e7c8-4f6a-a188-9db31dd15c4c",
   "metadata": {},
   "outputs": [],
   "source": []
  },
  {
   "cell_type": "code",
   "execution_count": 46,
   "id": "a013c089-8c2a-4b16-9562-3520bb615b9e",
   "metadata": {},
   "outputs": [
    {
     "data": {
      "text/plain": [
       "(-0.0009856647347018502, 0.0003396567805692247, 25.0)"
      ]
     },
     "execution_count": 46,
     "metadata": {},
     "output_type": "execute_result"
    }
   ],
   "source": [
    "\n",
    "invert_relative_pose_change(-0.6160404591886564, 0.2122854878557654, 125, 5)\n"
   ]
  },
  {
   "cell_type": "code",
   "execution_count": 34,
   "id": "fb1c4302-6642-4461-a208-dfe8c00b0033",
   "metadata": {},
   "outputs": [
    {
     "data": {
      "text/plain": [
       "(-0.6160404591886564, 0.2122854878557654, 125)"
      ]
     },
     "execution_count": 34,
     "metadata": {},
     "output_type": "execute_result"
    }
   ],
   "source": [
    "calculate_relative_pose_change(15,20,25,5)"
   ]
  },
  {
   "cell_type": "code",
   "execution_count": 39,
   "id": "a4deff30-437b-470f-8cba-e8fa3601a702",
   "metadata": {},
   "outputs": [],
   "source": [
    "def invertt(dx, dy, dtheta, dt):\n",
    "    if np.abs(dtheta) < 1e-5:\n",
    "        # Linear motion (calculate linear velocities only)\n",
    "        v_x = dx / dt\n",
    "        v_y = dy / dt\n",
    "        omega = 0.0\n",
    "    else:\n",
    "        # Circular arc motion (calculate linear and angular velocities)\n",
    "        R = np.sqrt(dx**2 + dy**2) / np.abs(dtheta)  # Radius of the circular path\n",
    "        # Calculate the average angle between initial and final orientation\n",
    "        theta_avg = np.arctan2(dy, dx)\n",
    "        # Calculate linear velocities\n",
    "        v_x = R * np.cos(theta_avg) * np.sign(dtheta) / dt\n",
    "        v_y = R * np.sin(theta_avg) * np.sign(dtheta) / dt\n",
    "        omega = dtheta / dt  # Angular velocity\n",
    "\n",
    "    return v_x, v_y, omega"
   ]
  },
  {
   "cell_type": "code",
   "execution_count": 43,
   "id": "ec61548e-f0e7-4ff3-9023-468f7bad59f2",
   "metadata": {},
   "outputs": [
    {
     "data": {
      "text/plain": [
       "(0.05305164769729847, 0.053051647697298455, 1.0471975511965976)"
      ]
     },
     "execution_count": 43,
     "metadata": {},
     "output_type": "execute_result"
    }
   ],
   "source": [
    "invertt(.5,.5,np.pi,3)"
   ]
  },
  {
   "cell_type": "code",
   "execution_count": 47,
   "id": "1670bc7a-9dc3-4c87-8406-177f16d48db0",
   "metadata": {},
   "outputs": [
    {
     "name": "stdout",
     "output_type": "stream",
     "text": [
      "Linear velocity in x: 0.12000000000000002\n",
      "Linear velocity in y: 0.16\n",
      "Angular velocity: 5.0\n"
     ]
    }
   ],
   "source": [
    "def invert_relative_pose_change(dx, dy, dtheta, dt):\n",
    "    # Check if the change in orientation is very small to avoid division by zero\n",
    "    if np.abs(dtheta) < 1e-5:\n",
    "        # Linear motion (calculate linear velocities only)\n",
    "        vx = dx / dt\n",
    "        vy = dy / dt\n",
    "        omega = 0.0\n",
    "    else:\n",
    "        # Circular arc motion (calculate linear and angular velocities)\n",
    "        R = np.sqrt(dx**2 + dy**2) / np.abs(dtheta)  # Radius of the circular path\n",
    "        # Calculate the average angle between initial and final orientation\n",
    "        theta_avg = np.arctan2(dy, dx)\n",
    "        # Calculate linear velocities\n",
    "        vx = R * np.cos(theta_avg) * np.sign(dtheta) / dt\n",
    "        vy = R * np.sin(theta_avg) * np.sign(dtheta) / dt\n",
    "        omega = dtheta / dt  # Angular velocity\n",
    "\n",
    "    return vx, vy, omega\n",
    "\n",
    "# Example values for changes in pose\n",
    "dx = 15.0\n",
    "dy = 20.0\n",
    "dtheta = 25.0\n",
    "dt = 5.0\n",
    "\n",
    "# Invert the relative pose change to get velocities\n",
    "vx, vy, omega = invert_relative_pose_change(dx, dy, dtheta, dt)\n",
    "\n",
    "# Display the results\n",
    "print(\"Linear velocity in x:\", vx)\n",
    "print(\"Linear velocity in y:\", vy)\n",
    "print(\"Angular velocity:\", omega)"
   ]
  },
  {
   "cell_type": "code",
   "execution_count": null,
   "id": "af16d736-b9c7-4308-8142-558d04d6b7c3",
   "metadata": {},
   "outputs": [],
   "source": []
  }
 ],
 "metadata": {
  "kernelspec": {
   "display_name": "Python 3 (ipykernel)",
   "language": "python",
   "name": "python3"
  },
  "language_info": {
   "codemirror_mode": {
    "name": "ipython",
    "version": 3
   },
   "file_extension": ".py",
   "mimetype": "text/x-python",
   "name": "python",
   "nbconvert_exporter": "python",
   "pygments_lexer": "ipython3",
   "version": "3.8.10"
  }
 },
 "nbformat": 4,
 "nbformat_minor": 5
}
